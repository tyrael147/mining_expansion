{
 "nbformat": 4,
 "nbformat_minor": 0,
 "metadata": {
  "colab": {
   "name": "Mining_170820.ipynb",
   "provenance": [],
   "collapsed_sections": []
  },
  "kernelspec": {
   "name": "python3",
   "display_name": "Python 3"
  }
 },
 "cells": [
  {
   "cell_type": "markdown",
   "metadata": {
    "id": "in6nYO4-Sfpg"
   },
   "source": [
    "# Data analysis and plotting\n",
    "### CSV files in /data/ are obtaining from running the .js files in GEE and exporting to a gdrive folder\n",
    "### rpy2 is required to emulate R in a jupyter invironment."
   ]
  },
  {
   "cell_type": "code",
   "metadata": {
    "id": "x-ipvOSFSfpm",
    "colab": {
     "base_uri": "https://localhost:8080/"
    },
    "outputId": "a537e04a-d297-40a6-a0f8-e9a6c820fd81"
   },
   "source": [
    "!pip install geopandas\n",
    "!pip install unrar\n",
    "!pip install pyunpack\n",
    "!pip install patool\n",
    "import pandas as pd\n",
    "import numpy as np\n",
    "import matplotlib.pyplot as plt\n",
    "import seaborn as sns\n",
    "import warnings\n",
    "import rpy2\n",
    "import scipy.cluster.hierarchy as hac\n",
    "\n",
    "%matplotlib inline\n",
    "%config IPCompleter.greedy=True\n",
    "warnings.filterwarnings('ignore')\n",
    "sns.set()\n",
    "%matplotlib inline\n"
   ],
   "execution_count": null,
   "outputs": [
    {
     "output_type": "stream",
     "name": "stdout",
     "text": [
      "Looking in indexes: https://pypi.org/simple, https://us-python.pkg.dev/colab-wheels/public/simple/\n",
      "Requirement already satisfied: geopandas in /usr/local/lib/python3.7/dist-packages (0.10.2)\n",
      "Requirement already satisfied: fiona>=1.8 in /usr/local/lib/python3.7/dist-packages (from geopandas) (1.8.21)\n",
      "Requirement already satisfied: pyproj>=2.2.0 in /usr/local/lib/python3.7/dist-packages (from geopandas) (3.2.1)\n",
      "Requirement already satisfied: shapely>=1.6 in /usr/local/lib/python3.7/dist-packages (from geopandas) (1.8.4)\n",
      "Requirement already satisfied: pandas>=0.25.0 in /usr/local/lib/python3.7/dist-packages (from geopandas) (1.3.5)\n",
      "Requirement already satisfied: cligj>=0.5 in /usr/local/lib/python3.7/dist-packages (from fiona>=1.8->geopandas) (0.7.2)\n",
      "Requirement already satisfied: munch in /usr/local/lib/python3.7/dist-packages (from fiona>=1.8->geopandas) (2.5.0)\n",
      "Requirement already satisfied: click>=4.0 in /usr/local/lib/python3.7/dist-packages (from fiona>=1.8->geopandas) (7.1.2)\n",
      "Requirement already satisfied: certifi in /usr/local/lib/python3.7/dist-packages (from fiona>=1.8->geopandas) (2022.6.15)\n",
      "Requirement already satisfied: click-plugins>=1.0 in /usr/local/lib/python3.7/dist-packages (from fiona>=1.8->geopandas) (1.1.1)\n",
      "Requirement already satisfied: six>=1.7 in /usr/local/lib/python3.7/dist-packages (from fiona>=1.8->geopandas) (1.15.0)\n",
      "Requirement already satisfied: attrs>=17 in /usr/local/lib/python3.7/dist-packages (from fiona>=1.8->geopandas) (22.1.0)\n",
      "Requirement already satisfied: setuptools in /usr/local/lib/python3.7/dist-packages (from fiona>=1.8->geopandas) (57.4.0)\n",
      "Requirement already satisfied: pytz>=2017.3 in /usr/local/lib/python3.7/dist-packages (from pandas>=0.25.0->geopandas) (2022.2.1)\n",
      "Requirement already satisfied: python-dateutil>=2.7.3 in /usr/local/lib/python3.7/dist-packages (from pandas>=0.25.0->geopandas) (2.8.2)\n",
      "Requirement already satisfied: numpy>=1.17.3 in /usr/local/lib/python3.7/dist-packages (from pandas>=0.25.0->geopandas) (1.21.6)\n",
      "Looking in indexes: https://pypi.org/simple, https://us-python.pkg.dev/colab-wheels/public/simple/\n",
      "Requirement already satisfied: unrar in /usr/local/lib/python3.7/dist-packages (0.4)\n",
      "Looking in indexes: https://pypi.org/simple, https://us-python.pkg.dev/colab-wheels/public/simple/\n",
      "Requirement already satisfied: pyunpack in /usr/local/lib/python3.7/dist-packages (0.3)\n",
      "Requirement already satisfied: easyprocess in /usr/local/lib/python3.7/dist-packages (from pyunpack) (1.1)\n",
      "Requirement already satisfied: entrypoint2 in /usr/local/lib/python3.7/dist-packages (from pyunpack) (1.1)\n",
      "Looking in indexes: https://pypi.org/simple, https://us-python.pkg.dev/colab-wheels/public/simple/\n",
      "Requirement already satisfied: patool in /usr/local/lib/python3.7/dist-packages (1.12)\n"
     ]
    }
   ]
  },
  {
   "cell_type": "code",
   "metadata": {
    "id": "Ww_GtqtAXgHW",
    "colab": {
     "base_uri": "https://localhost:8080/"
    },
    "outputId": "38f4c28b-e04e-4e42-a566-8f2aaf1ac66a"
   },
   "source": [
    "%load_ext rpy2.ipython"
   ],
   "execution_count": null,
   "outputs": [
    {
     "output_type": "stream",
     "name": "stdout",
     "text": [
      "The rpy2.ipython extension is already loaded. To reload it, use:\n",
      "  %reload_ext rpy2.ipython\n"
     ]
    }
   ]
  },
  {
   "cell_type": "code",
   "metadata": {
    "id": "avLYX8a1nRRc",
    "colab": {
     "base_uri": "https://localhost:8080/"
    },
    "outputId": "41a158fd-ff33-4fad-adff-4d46869d03c8"
   },
   "source": [
    "%%R\n",
    "library(ggplot2)\n",
    "install.packages(\"gridExtra\")"
   ],
   "execution_count": null,
   "outputs": [
    {
     "output_type": "stream",
     "name": "stderr",
     "text": [
      "WARNING:rpy2.rinterface_lib.callbacks:R[write to console]: Installing package into ‘/usr/local/lib/R/site-library’\n",
      "(as ‘lib’ is unspecified)\n",
      "\n",
      "WARNING:rpy2.rinterface_lib.callbacks:R[write to console]: trying URL 'https://cran.rstudio.com/src/contrib/gridExtra_2.3.tar.gz'\n",
      "\n",
      "WARNING:rpy2.rinterface_lib.callbacks:R[write to console]: Content type 'application/x-gzip'\n",
      "WARNING:rpy2.rinterface_lib.callbacks:R[write to console]:  length 1062844 bytes (1.0 MB)\n",
      "\n",
      "WARNING:rpy2.rinterface_lib.callbacks:R[write to console]: =\n",
      "WARNING:rpy2.rinterface_lib.callbacks:R[write to console]: =\n",
      "WARNING:rpy2.rinterface_lib.callbacks:R[write to console]: =\n",
      "WARNING:rpy2.rinterface_lib.callbacks:R[write to console]: =\n",
      "WARNING:rpy2.rinterface_lib.callbacks:R[write to console]: =\n",
      "WARNING:rpy2.rinterface_lib.callbacks:R[write to console]: =\n",
      "WARNING:rpy2.rinterface_lib.callbacks:R[write to console]: =\n",
      "WARNING:rpy2.rinterface_lib.callbacks:R[write to console]: =\n",
      "WARNING:rpy2.rinterface_lib.callbacks:R[write to console]: =\n",
      "WARNING:rpy2.rinterface_lib.callbacks:R[write to console]: =\n",
      "WARNING:rpy2.rinterface_lib.callbacks:R[write to console]: =\n",
      "WARNING:rpy2.rinterface_lib.callbacks:R[write to console]: =\n",
      "WARNING:rpy2.rinterface_lib.callbacks:R[write to console]: =\n",
      "WARNING:rpy2.rinterface_lib.callbacks:R[write to console]: =\n",
      "WARNING:rpy2.rinterface_lib.callbacks:R[write to console]: =\n",
      "WARNING:rpy2.rinterface_lib.callbacks:R[write to console]: =\n",
      "WARNING:rpy2.rinterface_lib.callbacks:R[write to console]: =\n",
      "WARNING:rpy2.rinterface_lib.callbacks:R[write to console]: =\n",
      "WARNING:rpy2.rinterface_lib.callbacks:R[write to console]: =\n",
      "WARNING:rpy2.rinterface_lib.callbacks:R[write to console]: =\n",
      "WARNING:rpy2.rinterface_lib.callbacks:R[write to console]: =\n",
      "WARNING:rpy2.rinterface_lib.callbacks:R[write to console]: =\n",
      "WARNING:rpy2.rinterface_lib.callbacks:R[write to console]: =\n",
      "WARNING:rpy2.rinterface_lib.callbacks:R[write to console]: =\n",
      "WARNING:rpy2.rinterface_lib.callbacks:R[write to console]: =\n",
      "WARNING:rpy2.rinterface_lib.callbacks:R[write to console]: =\n",
      "WARNING:rpy2.rinterface_lib.callbacks:R[write to console]: =\n",
      "WARNING:rpy2.rinterface_lib.callbacks:R[write to console]: =\n",
      "WARNING:rpy2.rinterface_lib.callbacks:R[write to console]: =\n",
      "WARNING:rpy2.rinterface_lib.callbacks:R[write to console]: =\n",
      "WARNING:rpy2.rinterface_lib.callbacks:R[write to console]: =\n",
      "WARNING:rpy2.rinterface_lib.callbacks:R[write to console]: =\n",
      "WARNING:rpy2.rinterface_lib.callbacks:R[write to console]: =\n",
      "WARNING:rpy2.rinterface_lib.callbacks:R[write to console]: =\n",
      "WARNING:rpy2.rinterface_lib.callbacks:R[write to console]: =\n",
      "WARNING:rpy2.rinterface_lib.callbacks:R[write to console]: =\n",
      "WARNING:rpy2.rinterface_lib.callbacks:R[write to console]: =\n",
      "WARNING:rpy2.rinterface_lib.callbacks:R[write to console]: =\n",
      "WARNING:rpy2.rinterface_lib.callbacks:R[write to console]: =\n",
      "WARNING:rpy2.rinterface_lib.callbacks:R[write to console]: =\n",
      "WARNING:rpy2.rinterface_lib.callbacks:R[write to console]: =\n",
      "WARNING:rpy2.rinterface_lib.callbacks:R[write to console]: =\n",
      "WARNING:rpy2.rinterface_lib.callbacks:R[write to console]: =\n",
      "WARNING:rpy2.rinterface_lib.callbacks:R[write to console]: =\n",
      "WARNING:rpy2.rinterface_lib.callbacks:R[write to console]: =\n",
      "WARNING:rpy2.rinterface_lib.callbacks:R[write to console]: =\n",
      "WARNING:rpy2.rinterface_lib.callbacks:R[write to console]: =\n",
      "WARNING:rpy2.rinterface_lib.callbacks:R[write to console]: =\n",
      "WARNING:rpy2.rinterface_lib.callbacks:R[write to console]: =\n",
      "WARNING:rpy2.rinterface_lib.callbacks:R[write to console]: =\n",
      "WARNING:rpy2.rinterface_lib.callbacks:R[write to console]: \n",
      "\n",
      "WARNING:rpy2.rinterface_lib.callbacks:R[write to console]: downloaded 1.0 MB\n",
      "\n",
      "\n",
      "WARNING:rpy2.rinterface_lib.callbacks:R[write to console]: \n",
      "\n",
      "WARNING:rpy2.rinterface_lib.callbacks:R[write to console]: \n",
      "WARNING:rpy2.rinterface_lib.callbacks:R[write to console]: The downloaded source packages are in\n",
      "\t‘/tmp/RtmpCQKUxr/downloaded_packages’\n",
      "WARNING:rpy2.rinterface_lib.callbacks:R[write to console]: \n",
      "WARNING:rpy2.rinterface_lib.callbacks:R[write to console]: \n",
      "\n"
     ]
    }
   ]
  },
  {
   "cell_type": "markdown",
   "metadata": {
    "id": "e6IIJOP4Sfpz"
   },
   "source": [
    "\n",
    "# Variables seleccionadas\n"
   ]
  },
  {
   "cell_type": "code",
   "metadata": {
    "id": "JK4-AoLG-rYL",
    "colab": {
     "base_uri": "https://localhost:8080/"
    },
    "outputId": "835aa3ef-be09-4e5b-a724-e365295acb9b"
   },
   "source": [
    "import numpy as np\n",
    "importance= {\n",
    "    \"altitude\": 62.81047546775821,\n",
    "    \"clay\": 27.71523810483771,\n",
    "    \"distance_any\": 61.693185172607706,\n",
    "    \"distance_buffer\": 57.94616270417767,\n",
    "    \"distance_dep\": 84.34811426119015,\n",
    "    \"distance_nac\": 79.7300759723054,\n",
    "    \"distance_parks\": 79.40893012926475,\n",
    "    \"distance_ponds\": 85.43048798680884,\n",
    "    \"distance_rivers\": 64.50476699832657,\n",
    "    \"distance_vec\": 72.0437457805247,\n",
    "    \"distance_villages\": 78.15541831831356,\n",
    "    \"landform\": 22.00941541168976,\n",
    "    \"offset\": 70.33800114213884,\n",
    "    \"sand\": 27.625622989141032,\n",
    "    \"scale\": 43.08101862747134,\n",
    "    \"slope\": 61.75376775332827\n",
    "  }\n",
    "total = np.array(list(importance.values())).sum()\n",
    "for k,v in importance.items():\n",
    "  importance[k]=  v*100/total\n",
    "sorted(importance.items(), key=lambda item: item[1], reverse = True)"
   ],
   "execution_count": null,
   "outputs": [
    {
     "output_type": "execute_result",
     "data": {
      "text/plain": [
       "[('distance_ponds', 8.729917690664795),\n",
       " ('distance_dep', 8.619312756081625),\n",
       " ('distance_nac', 8.147407525240297),\n",
       " ('distance_parks', 8.114590473125634),\n",
       " ('distance_villages', 7.986497386081936),\n",
       " ('distance_vec', 7.361961585520531),\n",
       " ('offset', 7.187656010949767),\n",
       " ('distance_rivers', 6.591573100201094),\n",
       " ('altitude', 6.418437888704512),\n",
       " ('slope', 6.310455696545101),\n",
       " ('distance_any', 6.304264921382255),\n",
       " ('distance_buffer', 5.921366514673905),\n",
       " ('scale', 4.402336396649093),\n",
       " ('clay', 2.832147552168601),\n",
       " ('sand', 2.822990018338382),\n",
       " ('landform', 2.2490844836724904)]"
      ]
     },
     "metadata": {},
     "execution_count": 147
    }
   ]
  },
  {
   "cell_type": "code",
   "metadata": {
    "id": "SRhx3KxECt0Q",
    "colab": {
     "base_uri": "https://localhost:8080/"
    },
    "outputId": "ec85833e-a935-4d94-f5f7-16db9a1ec13c"
   },
   "source": [
    "importance = {\n",
    "    \"1_mined\": 0.9937644825143181,\n",
    "    \"1_neighbors\": 28.70817451895399,\n",
    "    \"altitude\": 61.222787886246536,\n",
    "    \"clay\": 25.949427877111017,\n",
    "    \"distance_any\": 66.19524377397637,\n",
    "    \"distance_buffer\": 52.04832481572561,\n",
    "    \"distance_dep\": 84.39837016703382,\n",
    "    \"distance_nac\": 79.13019131902422,\n",
    "    \"distance_parks\": 75.62381787316995,\n",
    "    \"distance_ponds\": 71.33774219729872,\n",
    "    \"distance_rivers\": 64.28095482960737,\n",
    "    \"distance_vec\": 61.656736030198566,\n",
    "    \"distance_villages\": 70.86498397487051,\n",
    "    \"landform\": 15.700988972579704,\n",
    "    \"offset\": 59.25978039339653,\n",
    "    \"sand\": 28.318808593060076,\n",
    "    \"scale\": 31.394355763059732,\n",
    "    \"slope\": 60.121489576488415\n",
    "  }\n",
    "total = np.array(list(importance.values())).sum()\n",
    "for k,v in importance.items():\n",
    "  importance[k]=  v*100/total\n",
    "sorted(importance.items(), key=lambda item: item[1], reverse = True)"
   ],
   "execution_count": null,
   "outputs": [
    {
     "output_type": "execute_result",
     "data": {
      "text/plain": [
       "[('distance_dep', 9.00531743246138),\n",
       " ('distance_nac', 8.4432020418038),\n",
       " ('distance_parks', 8.069071524186239),\n",
       " ('distance_ponds', 7.611746673903191),\n",
       " ('distance_villages', 7.561303308073419),\n",
       " ('distance_any', 7.063041401440019),\n",
       " ('distance_rivers', 6.858786513965571),\n",
       " ('distance_vec', 6.578782015606909),\n",
       " ('altitude', 6.5324796903631706),\n",
       " ('slope', 6.414971012795379),\n",
       " ('offset', 6.323026527222358),\n",
       " ('distance_buffer', 5.553563248506259),\n",
       " ('scale', 3.3497819765292776),\n",
       " ('1_neighbors', 3.0631660769992077),\n",
       " ('sand', 3.021620680410157),\n",
       " ('clay', 2.768807439784236),\n",
       " ('landform', 1.6752976321915287),\n",
       " ('1_mined', 0.10603480375788955)]"
      ]
     },
     "metadata": {},
     "execution_count": 7
    }
   ]
  },
  {
   "cell_type": "code",
   "metadata": {
    "id": "vul9VY7zH0te",
    "colab": {
     "base_uri": "https://localhost:8080/"
    },
    "outputId": "fd553d35-ab01-41ec-e910-caf8815d4e46"
   },
   "source": [
    "importance= {\n",
    "    \"1_mined\": 1.013716002102584,\n",
    "    \"1_neighbors\": 27.0839873808369,\n",
    "    \"2_mined\": 0.39350541576552456,\n",
    "    \"2_neighbors\": 24.02377876261177,\n",
    "    \"3_mined\": 0.49686008393072134,\n",
    "    \"3_neighbors\": 13.358124282460771,\n",
    "    \"altitude\": 55.97886983995005,\n",
    "    \"clay\": 24.077076825311927,\n",
    "    \"distance_any\": 59.9634568469766,\n",
    "    \"distance_buffer\": 49.53052112132204,\n",
    "    \"distance_dep\": 76.35665235805688,\n",
    "    \"distance_nac\": 68.5768390355863,\n",
    "    \"distance_parks\": 63.49654085065141,\n",
    "    \"distance_ponds\": 67.55985130985808,\n",
    "    \"distance_rivers\": 55.47871627197069,\n",
    "    \"distance_vec\": 62.43458860775635,\n",
    "    \"distance_villages\": 62.49647321660527,\n",
    "    \"landform\": 11.80024275333941,\n",
    "    \"offset\": 33.33294942778402,\n",
    "    \"sand\": 25.95398716635355,\n",
    "    \"scale\": 22.163350010325594,\n",
    "    \"slope\": 50.898637139234864\n",
    "}\n",
    "total = np.array(list(importance.values())).sum()\n",
    "for k,v in importance.items():\n",
    "  importance[k]=  v*100/total\n",
    "sorted(importance.items(), key=lambda item: item[1], reverse = True)"
   ],
   "execution_count": null,
   "outputs": [
    {
     "output_type": "execute_result",
     "data": {
      "text/plain": [
       "[('distance_dep', 8.915287873940636),\n",
       " ('distance_nac', 8.006928572774584),\n",
       " ('distance_ponds', 7.8881866156676255),\n",
       " ('distance_parks', 7.413760598466794),\n",
       " ('distance_villages', 7.2969942058134984),\n",
       " ('distance_vec', 7.289768651970892),\n",
       " ('distance_any', 7.001243024649245),\n",
       " ('altitude', 6.536008639309447),\n",
       " ('distance_rivers', 6.477611461041272),\n",
       " ('slope', 5.94284831084065),\n",
       " ('distance_buffer', 5.78310914250406),\n",
       " ('offset', 3.8919050358923015),\n",
       " ('1_neighbors', 3.162285626955701),\n",
       " ('sand', 3.0303485016546503),\n",
       " ('clay', 2.8112032734760275),\n",
       " ('2_neighbors', 2.8049802718459),\n",
       " ('scale', 2.58775940917882),\n",
       " ('3_neighbors', 1.5596744979803763),\n",
       " ('landform', 1.3777785939996374),\n",
       " ('1_mined', 0.11835995557774259),\n",
       " ('3_mined', 0.058012636024702385),\n",
       " ('2_mined', 0.0459451004354328)]"
      ]
     },
     "metadata": {},
     "execution_count": 8
    }
   ]
  },
  {
   "cell_type": "code",
   "metadata": {
    "id": "Ox2wkjh_big0",
    "colab": {
     "base_uri": "https://localhost:8080/"
    },
    "outputId": "509d8db3-3173-4a79-dc61-77b31e1fed1c"
   },
   "source": [
    "%load_ext rpy2.ipython"
   ],
   "execution_count": null,
   "outputs": [
    {
     "output_type": "stream",
     "name": "stdout",
     "text": [
      "The rpy2.ipython extension is already loaded. To reload it, use:\n",
      "  %reload_ext rpy2.ipython\n"
     ]
    }
   ]
  },
  {
   "cell_type": "code",
   "metadata": {
    "id": "5M0lK6GzhU7m"
   },
   "source": [
    "%%R\n",
    "library(ggplot2)\n",
    "install.packages(\"gridExtra\")"
   ],
   "execution_count": null,
   "outputs": []
  },
  {
   "cell_type": "code",
   "metadata": {
    "id": "NOHyD6vjbieV"
   },
   "source": [
    "%%R\n",
    "data = read.csv('data/data_anal_13clus.csv')\n",
    "data$distance_any = data$distance_any/1000\n",
    "data$distance_buffer = data$distance_buffer/1000\n",
    "data$distance_dep = data$distance_dep/1000\n",
    "data$distance_nac = data$distance_nac/1000\n",
    "data$distance_parks = data$distance_parks/1000\n",
    "data$distance_ponds = data$distance_ponds/1000\n",
    "data$distance_rivers = data$distance_rivers/1000\n",
    "data$distance_vec = data$distance_vec/1000\n",
    "data$distance_villages = data$distance_villages/1000\n",
    "# data$first = as.factor(data$mined)\n",
    "# var_min = data[which(data$mined==1),]\n",
    "# var_min_no = data[which(data$mined==0),]\n",
    "# head(var_min,1)\n",
    "tail(data,3)\n"
   ],
   "execution_count": null,
   "outputs": []
  },
  {
   "cell_type": "code",
   "metadata": {
    "id": "l_mPQ8fGieCc"
   },
   "source": [
    "%%R\n",
    "data = data[data$cluster!=0,]\n",
    "data2 =  data\n",
    "data2$cluster = 0 \n",
    "data=rbind(data,data2)"
   ],
   "execution_count": null,
   "outputs": []
  },
  {
   "cell_type": "code",
   "metadata": {
    "id": "5Uq15UPL5A6P"
   },
   "source": [
    "%%R\n",
    "palette = c(\"#EEEDEE\",'black','#a6cee3','#1f78b4','#b2df8a','#33a02c',\n",
    "                            '#fb9a99','#e31a1c','#fdbf6f','#ff7f00','#cab2d6','#6a3d9a',\n",
    "                            '#E2D71A','#b15928')\n",
    "cols = palette"
   ],
   "execution_count": null,
   "outputs": []
  },
  {
   "cell_type": "code",
   "metadata": {
    "id": "cRR3ghECw1db",
    "colab": {
     "base_uri": "https://localhost:8080/",
     "height": 497
    },
    "outputId": "55526c15-414e-4fd6-e09e-a89d2445d424"
   },
   "source": [
    "%%R\n",
    "data = read.csv('data/data_anal_13clus.csv')\n",
    "data$distance_any = data$distance_any/1000\n",
    "data$distance_buffer = data$distance_buffer/1000\n",
    "data$distance_dep = data$distance_dep/1000\n",
    "data$distance_nac = data$distance_nac/1000\n",
    "data$distance_parks = data$distance_parks/1000\n",
    "data$distance_ponds = data$distance_ponds/1000\n",
    "data$distance_rivers = data$distance_rivers/1000\n",
    "data$distance_vec = data$distance_vec/1000\n",
    "data$distance_villages = data$distance_villages/1000\n",
    "\n",
    "data_1 = data[data$cluster==1,]\n",
    "data_2 = data[data$cluster==2,]\n",
    "data_3 = data[data$cluster==3,]\n",
    "data_4 = data[data$cluster==4,]\n",
    "data_5 = data[data$cluster==5,]\n",
    "data_6 = data[data$cluster==6,]\n",
    "data_7 = data[data$cluster==7,]\n",
    "data_8 = data[data$cluster==8,]\n",
    "data_9 = data[data$cluster==9,]\n",
    "data_10 = data[data$cluster==10,]\n",
    "data_11 = data[data$cluster==11,]\n",
    "\n",
    "# palette = c(\"EEEDEE\",'black','#a6cee3','#1f78b4','#b2df8a','#33a02c',\n",
    "#                             '#fb9a99','#e31a1c','#fdbf6f','#ff7f00','#cab2d6','#6a3d9a',\n",
    "#                             '#E2D71A','#b15928')\n",
    "palette = c('black','#a6cee3','#b2df8a','#33a02c',\n",
    "                            '#fb9a99')\n",
    "graph = \n",
    "  ggplot(  ) +\n",
    "  # ggplot(data_1, aes(x=data_1$distance_parks, fill = factor(data_1$mined))) + \n",
    "  # ggplot(data_2, aes(x=data_2$distance_parks, fill = factor(data_2$mined)))+\n",
    "  # geom_histogram(alpha=0.5,position = 'identity', bins= 100 ) + \n",
    "  geom_density(data= data_1,aes(x=data_1$distance_parks, fill = factor(data_1$cluster)),alpha=0.5 ) + \n",
    "  geom_density(data= data_2,aes(x=data_2$distance_parks, fill = factor(data_2$cluster)),alpha=0.5) + \n",
    "  geom_density(data= data_4,aes(x=data_4$distance_parks, fill = factor(data_4$cluster)),alpha=0.5) + \n",
    "  geom_density(data= data_5,aes(x=data_5$distance_parks, fill = factor(data_5$cluster)),alpha=0.5) + \n",
    "  geom_density(data= data_6,aes(x=data_6$distance_parks, fill = factor(data_6$cluster)),alpha=0.5) + \n",
    "  ylab(\"Mined pixels (density)\") + \n",
    "  xlab(\"Distance to PA(km)\") + \n",
    "  # facet_grid(rows = data$cluster) + \n",
    "  theme_linedraw() + \n",
    "  labs(fill = \"Cluster\") +\n",
    "  # scale_x_continuous(breaks = seq(0, 50, len = 5))+\n",
    "  # scale_y_continuous(breaks = c(0,1))+\n",
    "  coord_cartesian(xlim =c(0, 21))+\n",
    "  scale_fill_manual(values=palette) + \n",
    "  theme(text=element_text(size=14), strip.background = element_rect(fill=\"black\"), axis.text.x = element_text(angle=30, hjust=1))\n",
    "graph"
   ],
   "execution_count": null,
   "outputs": [
    {
     "output_type": "display_data",
     "data": {
      "image/png": "[encoded data removed]"
     },
     "metadata": {}
    }
   ]
  },
  {
   "cell_type": "code",
   "metadata": {
    "id": "qnkPcMWNFBh6"
   },
   "source": [
    "%%R\n",
    "ggsave(filename = 'plot_amare.png',plot=graph, width=8, height=6,path ='/outputs/' ,device= 'png',dpi = 500)"
   ],
   "execution_count": null,
   "outputs": []
  },
  {
   "cell_type": "code",
   "metadata": {
    "colab": {
     "base_uri": "https://localhost:8080/",
     "height": 497
    },
    "id": "j769L_6OFjRe",
    "outputId": "7e500eef-ece2-4e3b-b18a-ec702b7d8228"
   },
   "source": [
    "%%R\n",
    "data = read.csv('data/data_anal_13clus.csv')\n",
    "data$distance_any = data$distance_any/1000\n",
    "data$distance_buffer = data$distance_buffer/1000\n",
    "data$distance_dep = data$distance_dep/1000\n",
    "data$distance_nac = data$distance_nac/1000\n",
    "data$distance_parks = data$distance_parks/1000\n",
    "data$distance_ponds = data$distance_ponds/1000\n",
    "data$distance_rivers = data$distance_rivers/1000\n",
    "data$distance_vec = data$distance_vec/1000\n",
    "data$distance_villages = data$distance_villages/1000\n",
    "\n",
    "\n",
    "data_3 = data[data$cluster==3,]\n",
    "data_10 = data[data$cluster==10,]\n",
    "data_11 = data[data$cluster==11,]\n",
    "\n",
    "# palette = c(\"EEEDEE\",'black','#a6cee3','#1f78b4','#b2df8a','#33a02c',\n",
    "#                             '#fb9a99','#e31a1c','#fdbf6f','#ff7f00','#cab2d6','#6a3d9a',\n",
    "#                             '#E2D71A','#b15928')\n",
    "# palette = c('#1f78b4','#cab2d6','#6a3d9a')\n",
    "palette = c('#cab2d6','#6a3d9a','#1f78b4')\n",
    "graph = \n",
    "  ggplot(  ) +\n",
    "  geom_density(data= data_3,aes(x=data_3$distance_parks, fill = factor(data_3$cluster)),alpha=0.5 ) + \n",
    "  geom_density(data= data_10,aes(x=data_10$distance_parks, fill = factor(data_10$cluster)),alpha=0.5) + \n",
    "  geom_density(data= data_11,aes(x=data_11$distance_parks, fill = factor(data_11$cluster)),alpha=0.5) + \n",
    "  ylab(\"Mined pixels (density)\") + \n",
    "  xlab(\"Distance to PA(km)\") + \n",
    "  # facet_grid(rows = data$cluster) + \n",
    "  theme_linedraw() + \n",
    "  labs(fill = \"Cluster\") +\n",
    "  # scale_x_continuous(breaks = seq(0, 50, len = 5))+\n",
    "  # scale_y_continuous(breaks = c(0,1))+\n",
    "  coord_cartesian(xlim =c(0, 21))+\n",
    "  scale_fill_manual(values=palette) + \n",
    "  theme(text=element_text(size=14), strip.background = element_rect(fill=\"black\"), axis.text.x = element_text(angle=30, hjust=1))\n",
    "graph"
   ],
   "execution_count": null,
   "outputs": [
    {
     "output_type": "display_data",
     "data": {
      "image/png": "[encoded data removed]"
     },
     "metadata": {}
    }
   ]
  },
  {
   "cell_type": "code",
   "metadata": {
    "id": "gHOWOuylF7qh"
   },
   "source": [
    "%%R\n",
    "ggsave(filename = 'plot_tambo.png',plot=graph, width=8, height=6,path ='/outputs/' ,device= 'png',dpi = 500)"
   ],
   "execution_count": null,
   "outputs": []
  },
  {
   "cell_type": "code",
   "source": [
    "\n",
    "%%R\n",
    "data = read.csv('data/data_anal_13clus.csv')\n",
    "data$distance_any = data$distance_any/1000\n",
    "data$distance_buffer = data$distance_buffer/1000\n",
    "data$distance_dep = data$distance_dep/1000\n",
    "data$distance_nac = data$distance_nac/1000\n",
    "data$distance_parks = data$distance_parks/1000\n",
    "data$distance_ponds = data$distance_ponds/1000\n",
    "data$distance_rivers = data$distance_rivers/1000\n",
    "data$distance_vec = data$distance_vec/1000\n",
    "data$distance_villages = data$distance_villages/1000\n",
    "\n",
    "data_1 = data[data$cluster==1,]\n",
    "data_2 = data[data$cluster==2,]\n",
    "data_3 = data[data$cluster==3,]\n",
    "data_4 = data[data$cluster==4,]\n",
    "data_5 = data[data$cluster==5,]\n",
    "data_6 = data[data$cluster==6,]\n",
    "data_7 = data[data$cluster==7,]\n",
    "data_8 = data[data$cluster==8,]\n",
    "data_9 = data[data$cluster==9,]\n",
    "data_10 = data[data$cluster==10,]\n",
    "data_11 = data[data$cluster==11,]\n",
    "\n",
    "# palette = c(\"EEEDEE\",'black','#a6cee3','#1f78b4','#b2df8a','#33a02c',\n",
    "#                             '#fb9a99','#e31a1c','#fdbf6f','#ff7f00','#cab2d6','#6a3d9a',\n",
    "#                             '#E2D71A','#b15928')\n",
    "# palette = c('black','#a6cee3','#b2df8a','#33a02c',\n",
    "#                             '#fb9a99')\n",
    "palette = c('black','#6B3E98','#a6cee3','#b2df8a','#33a02c',\n",
    "                            '#fb9a99' )\n",
    "\n",
    "\n",
    "graph = \n",
    "  ggplot(  ) +\n",
    "  # ggplot(data_1, aes(x=data_1$distance_parks, fill = factor(data_1$mined))) + \n",
    "  # ggplot(data_2, aes(x=data_2$distance_parks, fill = factor(data_2$mined)))+\n",
    "  # geom_histogram(alpha=0.5,position = 'identity', bins= 100 ) + \n",
    "  geom_density(data= data_1,aes(x=data_1$distance_any, fill = factor(data_1$cluster)),alpha=0.5 ) + \n",
    "  geom_density(data= data_2,aes(x=data_2$distance_any, fill = factor(data_2$cluster)),alpha=0.5) + \n",
    "  geom_density(data= data_4,aes(x=data_4$distance_any, fill = factor(data_4$cluster)),alpha=0.5) + \n",
    "  geom_density(data= data_5,aes(x=data_5$distance_any, fill = factor(data_5$cluster)),alpha=0.5) + \n",
    "  geom_density(data= data_6,aes(x=data_6$distance_any, fill = factor(data_6$cluster)),alpha=0.5) + \n",
    "  geom_density(data= data_11,aes(x=data_11$distance_any, fill = factor(data_11$cluster)),alpha=0.5) + \n",
    "  ylab(\"Mined pixels (density)\") + \n",
    "  xlab(\"Distance to a road (any)(km)\") + \n",
    "  # facet_grid(rows = data$cluster) + \n",
    "  theme_linedraw() + \n",
    "  labs(fill = \"Cluster\") +\n",
    "  # scale_x_continuous(breaks = seq(0, 50, len = 5))+\n",
    "  # scale_y_continuous(breaks = c(0,1))+\n",
    "  coord_cartesian(xlim =c(0, 21))+\n",
    "  scale_fill_manual(values=palette) + \n",
    "  theme(text=element_text(size=14), strip.background = element_rect(fill=\"black\"), axis.text.x = element_text(angle=30, hjust=1))\n",
    "graph"
   ],
   "metadata": {
    "colab": {
     "base_uri": "https://localhost:8080/",
     "height": 497
    },
    "id": "HP6YfIM09NZT",
    "outputId": "7464b3fe-a798-41e6-f61f-2c0a73d08e24"
   },
   "execution_count": null,
   "outputs": [
    {
     "output_type": "display_data",
     "data": {
      "image/png": "[encoded data removed]"
     },
     "metadata": {}
    }
   ]
  },
  {
   "cell_type": "code",
   "source": [
    "%%R\n",
    "\n",
    "ggsave(filename = 'plot_road.png',plot=graph, width=8, height=6,path ='/outputs/' ,device= 'png',dpi = 500)\n"
   ],
   "metadata": {
    "id": "SSK6sFSl_HX7"
   },
   "execution_count": null,
   "outputs": []
  },
  {
   "cell_type": "code",
   "metadata": {
    "id": "n0ttuHVlp3lO"
   },
   "source": [
    "%%R\n",
    "# to_plot = c(\"type\",\"distance_dep\", \"distance_nac\", \"distance_parks\",\"distance_ponds\",\"distance_rivers\",\"distance_vec\", \"distance_villages\")\n",
    "to_plot = c(\"type\",\"distance_any\", \"distance_nac\",\"distance_dep\",\"distance_vec\", \"distance_parks\",\"distance_ponds\",\"distance_rivers\",\"distance_villages\")\n",
    "names = c(\"Type\",\"D. Any road (Km)\", \"D. Primary (Km)\",\"D. Secondary (Km)\", \"D. Tertiary (Km)\",\"D. PA (Km)\",\"D. Ponds (Km)\",\"D. Rivers (Km)\", \"D. Villages (Km)\")\n",
    "low_limit = c(0,0,0,0,0,0,0,0,0)\n",
    "upper_limit = c(2,40,50,50,50,50,50,10,30)\n",
    "\n",
    "names(names) =to_plot\n",
    "names(upper_limit) =to_plot"
   ],
   "execution_count": null,
   "outputs": []
  },
  {
   "cell_type": "code",
   "metadata": {
    "id": "QpEWghb595O0"
   },
   "source": [
    "%%R\n",
    "#creates a function that selects the appropiate geom_plot depending on the type of variable\n",
    "geom_to_plot = function(name){\n",
    "  if (name == \"type\"){\n",
    "      plot=geom_histogram(alpha=1,position = 'identity', bins= 20 )  \n",
    "  } \n",
    "  else {\n",
    "      plot = geom_density(size=0.2)\n",
    "  }\n",
    " return(plot)\n",
    "} \n"
   ],
   "execution_count": null,
   "outputs": []
  },
  {
   "cell_type": "code",
   "metadata": {
    "id": "VqE3D62kqlST"
   },
   "source": [
    "%%R\n",
    "plot_function = function(name){\n",
    "  graph = ggplot(data, aes(x=.data[[name]], fill = factor(data$cluster))) + \n",
    "  # geom_density(size=0.2) + \n",
    "  geom_to_plot(name) +\n",
    "  ylab(\"Mined pixels\") + \n",
    "  xlab(names[name]) + \n",
    "  facet_grid(rows = data$cluster,scales='free') + \n",
    "  theme_linedraw() + \n",
    "  labs(fill = \"Cluster\") +\n",
    "  scale_x_continuous(breaks = seq(0, upper_limit[name], len = 3), limits=c(low_limit[name]+0, upper_limit[name]+0.5)) +\n",
    "  # scale_y_continuous(breaks = c(0,0.5), limits = c(0,0.5))+\n",
    "  scale_fill_manual(values=cols) + \n",
    "  theme(text=element_text(size=14), \n",
    "        strip.background = element_rect(fill=\"black\"), \n",
    "        strip.text = element_text(size=21), \n",
    "        axis.title.y = element_blank(),\n",
    "        axis.title.x = element_text(size= 15, margin = margin(0.5, 0, 0.5, 0, \"cm\")), \n",
    "        axis.text.x = element_text(size= 15, angle=30, hjust=1), \n",
    "        axis.text.y = element_blank(),\n",
    "        axis.ticks.y = element_blank(),\n",
    "        panel.grid.major.y = element_blank(),\n",
    "        panel.grid.minor.y = element_blank(),\n",
    "        panel.grid.minor.x = element_blank(),\n",
    "        legend.position = \"none\")\n",
    "}\n",
    "\n",
    "plot_list= lapply(to_plot, plot_function)\n",
    "\n",
    "# add distnace to any road\n",
    "# use the same scale for primary second and thir\n",
    "ggsave(filename = 'density_varied.png',plot=graph, width=3, height=10,path ='/ouptuts/' ,device= 'png',dpi = 500)\n"
   ],
   "execution_count": null,
   "outputs": []
  },
  {
   "cell_type": "code",
   "metadata": {
    "id": "muxrZHnSs5lN",
    "colab": {
     "base_uri": "https://localhost:8080/",
     "height": 694
    },
    "outputId": "6bd05302-48de-4a78-c40f-02c6cbfa80c0"
   },
   "source": [
    "%%R\n",
    "library(gridExtra)\n",
    "total_plot=grid.arrange(grobs=plot_list,ncol=9, nrow=1, widths = c(3,3,3,3,3,3,3,3,3), heights=c(10))\n",
    "# ggsave(filename = 'total_ploth.png',plot=total_plot, width=15, height=8,path ='/content/drive/My Drive/mineria/img/hist_year' ,device= 'png',dpi = 500)\n",
    "total_plot"
   ],
   "execution_count": null,
   "outputs": [
    {
     "output_type": "stream",
     "name": "stdout",
     "text": [
      "TableGrob (1 x 9) \"arrange\": 9 grobs\n",
      "  z     cells    name           grob\n",
      "1 1 (1-1,1-1) arrange gtable[layout]\n",
      "2 2 (1-1,2-2) arrange gtable[layout]\n",
      "3 3 (1-1,3-3) arrange gtable[layout]\n",
      "4 4 (1-1,4-4) arrange gtable[layout]\n",
      "5 5 (1-1,5-5) arrange gtable[layout]\n",
      "6 6 (1-1,6-6) arrange gtable[layout]\n",
      "7 7 (1-1,7-7) arrange gtable[layout]\n",
      "8 8 (1-1,8-8) arrange gtable[layout]\n",
      "9 9 (1-1,9-9) arrange gtable[layout]\n"
     ]
    },
    {
     "output_type": "display_data",
     "data": {
      "image/png": "[encoded data removed]"
     },
     "metadata": {}
    }
   ]
  },
  {
   "cell_type": "code",
   "metadata": {
    "id": "pPdB-pCFbia7",
    "colab": {
     "base_uri": "https://localhost:8080/",
     "height": 496
    },
    "outputId": "6233890c-9ee3-41b3-a3a9-5b3daf1deb1f"
   },
   "source": [
    "%%R\n",
    "graph = ggplot(data, aes(x=data$slope, fill = factor(data$cluster))) + \n",
    "  # geom_histogram(alpha=0.5,position = 'identity', bins= 100 ) + \n",
    "  geom_density(size=0.2) + \n",
    "  ylab(\"Mined pixels\") + \n",
    "  xlab(\"Distance (km)\") + \n",
    "  facet_grid(rows = data$cluster,scales='free') + \n",
    "  theme_linedraw() + \n",
    "  labs(fill = \"Cluster\") +\n",
    "  scale_x_continuous(breaks = seq(0, 3, len = 3), limits=c(0,3)) +\n",
    "  # xlim(0,50) +\n",
    "  # scale_y_continuous(breaks = c(0,0.5), limits = c(0,0.5))+\n",
    "  # coord_cartesian(xlim =c(0, 50), ylim = c(0, 0.5))+\n",
    "  scale_fill_manual(values=cols) + \n",
    "  theme(text=element_text(size=14), \n",
    "        strip.background = element_rect(fill=\"black\"), axis.text.x = element_text(angle=30, hjust=1), \n",
    "        axis.text.y = element_blank(),\n",
    "        axis.ticks.y = element_blank(),\n",
    "        panel.grid.major.y = element_blank(),\n",
    "        panel.grid.minor.y = element_blank())\n",
    "graph\n",
    "# ggsave(filename = 'cluster title.png',plot=graph, width=6, height=20,path ='/content/drive/My Drive/mineria/img/hist_year' ,device= 'png',dpi = 500)\n",
    "\n"
   ],
   "execution_count": null,
   "outputs": [
    {
     "output_type": "display_data",
     "data": {
      "image/png": "[encoded data removed]"
     },
     "metadata": {
      "tags": []
     }
    }
   ]
  },
  {
   "cell_type": "code",
   "metadata": {
    "id": "-EbpU-SLyX7h"
   },
   "source": [
    "%%R\n",
    "ggsave(filename = 'scale.png',plot=graph, scale = 1.5,path ='/outputs' ,device= 'png',dpi = 500)\n"
   ],
   "execution_count": null,
   "outputs": []
  },
  {
   "cell_type": "code",
   "metadata": {
    "id": "2vjw-dAYBp43",
    "colab": {
     "base_uri": "https://localhost:8080/",
     "height": 283
    },
    "outputId": "648216ff-b97c-4512-874f-9d13e72d9ad6"
   },
   "source": [
    "%%R\n",
    "graph2 = ggplot(data, aes(x= data$longitude, y=data$latitude)) + \n",
    "    geom_point(aes(color=data$scale, alpha=0.5)) + \n",
    "    scale_colour_gradient2(low = \"green\", mid =\"black\", high = \"red\") + \n",
    "    facet_grid(rows =data$year ) + theme(aspect.ratio = 1)\n",
    "graph2"
   ],
   "execution_count": null,
   "outputs": [
    {
     "output_type": "stream",
     "text": [
      "R[write to console]: Error in farver::decode_colour(colors, alpha = TRUE, to = \"lab\", na_value = \"transparent\") : \n",
      "  unused argument (na_value = \"transparent\")\n",
      "Calls: <Anonymous> ... ggproto -> div_gradient_pal -> gradient_n_pal -> colour_ramp\n",
      "\n",
      "R[write to console]: In addition: \n",
      "R[write to console]: Warning messages:\n",
      "\n",
      "R[write to console]: 1: Use of `data$distance_nac` is discouraged. Use `distance_nac` instead. \n",
      "\n",
      "R[write to console]: 2: Use of `data$mined` is discouraged. Use `mined` instead. \n",
      "\n"
     ],
     "name": "stderr"
    },
    {
     "output_type": "stream",
     "text": [
      "\n",
      "Error in farver::decode_colour(colors, alpha = TRUE, to = \"lab\", na_value = \"transparent\") : \n",
      "  unused argument (na_value = \"transparent\")\n",
      "Calls: <Anonymous> ... ggproto -> div_gradient_pal -> gradient_n_pal -> colour_ramp\n"
     ],
     "name": "stdout"
    }
   ]
  },
  {
   "cell_type": "code",
   "metadata": {
    "id": "vn6U-nJC4wos",
    "colab": {
     "base_uri": "https://localhost:8080/",
     "height": 141
    },
    "outputId": "f018abe0-c8db-4b7b-e41e-44b2bcffc59e"
   },
   "source": [
    "%%R\n",
    "data_temporal = read.csv('data/temporal_clustered_polygon.csv')\n",
    "head(data_temporal)"
   ],
   "execution_count": null,
   "outputs": [
    {
     "output_type": "stream",
     "text": [
      "  system.index      area cluster year .geo\n",
      "1          0_0  872.8990       1 2011   NA\n",
      "2          0_1  212.3844       2 2011   NA\n",
      "3          0_2 1035.4705       3 2011   NA\n",
      "4          0_3 1409.3548       4 2011   NA\n",
      "5          0_4 1295.8084       5 2011   NA\n",
      "6          0_5  333.5742       6 2011   NA\n"
     ],
     "name": "stdout"
    }
   ]
  },
  {
   "cell_type": "code",
   "metadata": {
    "id": "HQ7uXWiQ5AQk"
   },
   "source": [
    "%%R\n",
    "\n",
    "palette = c(\"EEEDEE\",'black','#a6cee3','#1f78b4','#b2df8a','#33a02c',\n",
    "                            '#fb9a99','#e31a1c','#fdbf6f','#ff7f00','#cab2d6','#6a3d9a',\n",
    "                            '#E2D71A','#b15928')\n",
    "cols = palette[-1]"
   ],
   "execution_count": null,
   "outputs": []
  },
  {
   "cell_type": "code",
   "metadata": {
    "id": "lNwpVFixWkk_",
    "colab": {
     "base_uri": "https://localhost:8080/",
     "height": 496
    },
    "outputId": "bbd266db-cbef-43d4-f21e-1292ae4256f5"
   },
   "source": [
    "%%R\n",
    "graph_temp = ggplot(data_temporal, aes(x=data_temporal$year, y= data_temporal$area, fill = factor(data_temporal$cluster))) + \n",
    "  geom_area() +\n",
    "  # geom_point(aes(color = factor(data_temporal$cluster))) +\n",
    "  geom_line(aes(color = factor(data_temporal$cluster))) +\n",
    "  facet_grid(rows = data_temporal$cluster) + \n",
    "  # ylab(\"Mined area (ha)\") + \n",
    "  xlab(\"Year\") + \n",
    "  theme_linedraw() + \n",
    "  labs(fill = \"Cluster\") +\n",
    "  # scale_x_continuous(breaks = seq(0, upper_limit[name], len = 3), limits=c(low_limit[name]+0.5, upper_limit[name]+0.5)) +\n",
    "  scale_y_continuous(breaks=c(2000), minor_breaks = c(0,1000,2000))+\n",
    "  scale_fill_manual(values=cols) +  \n",
    "  scale_color_manual(values=cols) +  \n",
    "  \n",
    "  theme(text=element_text(size=14), \n",
    "        strip.background = element_rect(fill=\"black\"), \n",
    "        strip.text = element_text(size=21), \n",
    "        axis.title.y = element_blank(),\n",
    "        axis.title.x = element_text(size= 14, margin = margin(0.5, 0, 0.5, 0, \"cm\")), \n",
    "        axis.text.y = element_blank(),\n",
    "        axis.ticks.y = element_blank(),\n",
    "        # panel.grid.major.y = element_blank(),\n",
    "        # panel.grid.minor.y = element_blank(),\n",
    "        panel.grid.minor.x = element_blank(),\n",
    "        panel.grid.major.x = element_blank(),\n",
    "        axis.text.x = element_text(size= 10, angle=30, hjust=1), \n",
    "        # axis.text.y = element_text(size= 12, angle=30, hjust=1), \n",
    "        legend.position = \"none\")\n",
    "  ggsave(filename = 'temporal_cluster.png',plot=graph_temp, width=2.8, height=8,path ='/content/drive/My Drive/mineria/img/hist_year' ,device= 'png',dpi = 300)\n",
    "  graph_temp\n"
   ],
   "execution_count": null,
   "outputs": [
    {
     "output_type": "display_data",
     "data": {
      "image/png": "[encoded data removed]"
     },
     "metadata": {
      "tags": []
     }
    }
   ]
  },
  {
   "cell_type": "markdown",
   "metadata": {
    "id": "dle5Clmo_rNy"
   },
   "source": [
    "# Printing scores"
   ]
  },
  {
   "cell_type": "code",
   "metadata": {
    "id": "I-09NYQyAMAv"
   },
   "source": [
    "import os\n",
    "names = !ls\n",
    "names"
   ],
   "execution_count": null,
   "outputs": []
  },
  {
   "cell_type": "code",
   "metadata": {
    "id": "TZVEctNdAIdh",
    "colab": {
     "base_uri": "https://localhost:8080/"
    },
    "outputId": "f154b017-0e54-47c7-ceed-1a87eb604cc1"
   },
   "source": [
    "import os\n",
    "import re\n",
    "dirListing = !ls\n",
    "strings = [name for name in dirListing if (\" big_\" in name or \" small_\" in name) and  not \"shortterm\" in name ]\n",
    "print(len(strings))\n",
    "for string in strings:\n",
    "  name_splt =re.split(\"_\",string)\n",
    "  # if \"nolatlon\" not in name_splt[-1]:\n",
    "  print(name_splt)"
   ],
   "execution_count": null,
   "outputs": [
    {
     "output_type": "stream",
     "text": [
      "6\n",
      "[' big', 'in', 'clust.csv']\n",
      "[' big', 'in', 'strata.csv']\n",
      "[' small', 'in', 'clust.csv']\n",
      "[' small', 'in', 'strata.csv']\n",
      "[' small', 'out', 'clust.csv']\n",
      "[' small', 'out', 'strata.csv']\n"
     ],
     "name": "stdout"
    }
   ]
  },
  {
   "cell_type": "code",
   "metadata": {
    "id": "LOxR270TGyyF",
    "colab": {
     "base_uri": "https://localhost:8080/",
     "height": 444
    },
    "outputId": "eb0bb4e8-1430-4164-c44e-e53863db61b4"
   },
   "source": [
    "aa = pd.read_csv(\"data/small_out_clust.csv\")\n",
    "aa"
   ],
   "execution_count": null,
   "outputs": [
    {
     "output_type": "execute_result",
     "data": {
      "text/html": [
       "<div>\n",
       "<style scoped>\n",
       "    .dataframe tbody tr th:only-of-type {\n",
       "        vertical-align: middle;\n",
       "    }\n",
       "\n",
       "    .dataframe tbody tr th {\n",
       "        vertical-align: top;\n",
       "    }\n",
       "\n",
       "    .dataframe thead th {\n",
       "        text-align: right;\n",
       "    }\n",
       "</style>\n",
       "<table border=\"1\" class=\"dataframe\">\n",
       "  <thead>\n",
       "    <tr style=\"text-align: right;\">\n",
       "      <th></th>\n",
       "      <th>system:index</th>\n",
       "      <th>altitude</th>\n",
       "      <th>classification</th>\n",
       "      <th>clay</th>\n",
       "      <th>cluster</th>\n",
       "      <th>distance_any</th>\n",
       "      <th>distance_buffer</th>\n",
       "      <th>distance_dep</th>\n",
       "      <th>distance_nac</th>\n",
       "      <th>distance_parks</th>\n",
       "      <th>distance_ponds</th>\n",
       "      <th>distance_rivers</th>\n",
       "      <th>distance_vec</th>\n",
       "      <th>distance_villages</th>\n",
       "      <th>landform</th>\n",
       "      <th>latitude</th>\n",
       "      <th>longitude</th>\n",
       "      <th>mined</th>\n",
       "      <th>sand</th>\n",
       "      <th>slope</th>\n",
       "      <th>type</th>\n",
       "      <th>.geo</th>\n",
       "    </tr>\n",
       "  </thead>\n",
       "  <tbody>\n",
       "    <tr>\n",
       "      <th>0</th>\n",
       "      <td>0</td>\n",
       "      <td>251</td>\n",
       "      <td>0.465760</td>\n",
       "      <td>40</td>\n",
       "      <td>0</td>\n",
       "      <td>7596.748374</td>\n",
       "      <td>18149.586841</td>\n",
       "      <td>18018.762851</td>\n",
       "      <td>40307.189603</td>\n",
       "      <td>29404.564619</td>\n",
       "      <td>2334.939990</td>\n",
       "      <td>1280.853314</td>\n",
       "      <td>7596.748374</td>\n",
       "      <td>6485.754000</td>\n",
       "      <td>34</td>\n",
       "      <td>-12547</td>\n",
       "      <td>-70231</td>\n",
       "      <td>0</td>\n",
       "      <td>32</td>\n",
       "      <td>3.365625</td>\n",
       "      <td>0</td>\n",
       "      <td>{\"geodesic\":false,\"type\":\"Point\",\"coordinates\"...</td>\n",
       "    </tr>\n",
       "    <tr>\n",
       "      <th>1</th>\n",
       "      <td>1</td>\n",
       "      <td>238</td>\n",
       "      <td>0.436252</td>\n",
       "      <td>37</td>\n",
       "      <td>0</td>\n",
       "      <td>2326.748817</td>\n",
       "      <td>2326.748817</td>\n",
       "      <td>46727.470410</td>\n",
       "      <td>2326.748817</td>\n",
       "      <td>17202.777047</td>\n",
       "      <td>10047.393372</td>\n",
       "      <td>100.034745</td>\n",
       "      <td>2417.448844</td>\n",
       "      <td>4658.870568</td>\n",
       "      <td>31</td>\n",
       "      <td>-12758</td>\n",
       "      <td>-69601</td>\n",
       "      <td>0</td>\n",
       "      <td>36</td>\n",
       "      <td>4.639149</td>\n",
       "      <td>0</td>\n",
       "      <td>{\"geodesic\":false,\"type\":\"Point\",\"coordinates\"...</td>\n",
       "    </tr>\n",
       "    <tr>\n",
       "      <th>2</th>\n",
       "      <td>2</td>\n",
       "      <td>259</td>\n",
       "      <td>0.665792</td>\n",
       "      <td>33</td>\n",
       "      <td>0</td>\n",
       "      <td>4342.115706</td>\n",
       "      <td>0.000000</td>\n",
       "      <td>4342.115706</td>\n",
       "      <td>39443.345385</td>\n",
       "      <td>8416.347838</td>\n",
       "      <td>2571.262669</td>\n",
       "      <td>3863.048195</td>\n",
       "      <td>4460.290100</td>\n",
       "      <td>4460.290100</td>\n",
       "      <td>21</td>\n",
       "      <td>-12588</td>\n",
       "      <td>-70421</td>\n",
       "      <td>0</td>\n",
       "      <td>41</td>\n",
       "      <td>2.113939</td>\n",
       "      <td>0</td>\n",
       "      <td>{\"geodesic\":false,\"type\":\"Point\",\"coordinates\"...</td>\n",
       "    </tr>\n",
       "    <tr>\n",
       "      <th>3</th>\n",
       "      <td>3</td>\n",
       "      <td>244</td>\n",
       "      <td>0.200675</td>\n",
       "      <td>38</td>\n",
       "      <td>0</td>\n",
       "      <td>2419.572589</td>\n",
       "      <td>0.000000</td>\n",
       "      <td>32511.260231</td>\n",
       "      <td>6042.931265</td>\n",
       "      <td>10620.897384</td>\n",
       "      <td>11129.314578</td>\n",
       "      <td>447.379130</td>\n",
       "      <td>2419.572589</td>\n",
       "      <td>15760.195895</td>\n",
       "      <td>24</td>\n",
       "      <td>-12766</td>\n",
       "      <td>-69453</td>\n",
       "      <td>0</td>\n",
       "      <td>37</td>\n",
       "      <td>0.000000</td>\n",
       "      <td>0</td>\n",
       "      <td>{\"geodesic\":false,\"type\":\"Point\",\"coordinates\"...</td>\n",
       "    </tr>\n",
       "    <tr>\n",
       "      <th>4</th>\n",
       "      <td>4</td>\n",
       "      <td>850</td>\n",
       "      <td>0.495487</td>\n",
       "      <td>39</td>\n",
       "      <td>0</td>\n",
       "      <td>4876.068143</td>\n",
       "      <td>6434.524464</td>\n",
       "      <td>4876.068143</td>\n",
       "      <td>19066.972951</td>\n",
       "      <td>10374.587985</td>\n",
       "      <td>27051.952440</td>\n",
       "      <td>424.228746</td>\n",
       "      <td>11263.164475</td>\n",
       "      <td>8221.237397</td>\n",
       "      <td>21</td>\n",
       "      <td>-13187</td>\n",
       "      <td>-70823</td>\n",
       "      <td>0</td>\n",
       "      <td>37</td>\n",
       "      <td>10.766107</td>\n",
       "      <td>0</td>\n",
       "      <td>{\"geodesic\":false,\"type\":\"Point\",\"coordinates\"...</td>\n",
       "    </tr>\n",
       "    <tr>\n",
       "      <th>...</th>\n",
       "      <td>...</td>\n",
       "      <td>...</td>\n",
       "      <td>...</td>\n",
       "      <td>...</td>\n",
       "      <td>...</td>\n",
       "      <td>...</td>\n",
       "      <td>...</td>\n",
       "      <td>...</td>\n",
       "      <td>...</td>\n",
       "      <td>...</td>\n",
       "      <td>...</td>\n",
       "      <td>...</td>\n",
       "      <td>...</td>\n",
       "      <td>...</td>\n",
       "      <td>...</td>\n",
       "      <td>...</td>\n",
       "      <td>...</td>\n",
       "      <td>...</td>\n",
       "      <td>...</td>\n",
       "      <td>...</td>\n",
       "      <td>...</td>\n",
       "      <td>...</td>\n",
       "    </tr>\n",
       "    <tr>\n",
       "      <th>1995</th>\n",
       "      <td>1995</td>\n",
       "      <td>213</td>\n",
       "      <td>0.635287</td>\n",
       "      <td>36</td>\n",
       "      <td>13</td>\n",
       "      <td>3971.204362</td>\n",
       "      <td>13933.729668</td>\n",
       "      <td>53336.550185</td>\n",
       "      <td>13897.055271</td>\n",
       "      <td>25836.077574</td>\n",
       "      <td>223.681019</td>\n",
       "      <td>424.404894</td>\n",
       "      <td>3971.204362</td>\n",
       "      <td>10923.789535</td>\n",
       "      <td>31</td>\n",
       "      <td>-12681</td>\n",
       "      <td>-69683</td>\n",
       "      <td>1</td>\n",
       "      <td>37</td>\n",
       "      <td>5.736871</td>\n",
       "      <td>2</td>\n",
       "      <td>{\"geodesic\":false,\"type\":\"Point\",\"coordinates\"...</td>\n",
       "    </tr>\n",
       "    <tr>\n",
       "      <th>1996</th>\n",
       "      <td>1996</td>\n",
       "      <td>200</td>\n",
       "      <td>0.639605</td>\n",
       "      <td>36</td>\n",
       "      <td>13</td>\n",
       "      <td>4246.487517</td>\n",
       "      <td>11855.321344</td>\n",
       "      <td>41562.271266</td>\n",
       "      <td>12034.602204</td>\n",
       "      <td>28198.547522</td>\n",
       "      <td>3937.115607</td>\n",
       "      <td>640.537244</td>\n",
       "      <td>4246.487517</td>\n",
       "      <td>8573.890259</td>\n",
       "      <td>31</td>\n",
       "      <td>-12640</td>\n",
       "      <td>-69579</td>\n",
       "      <td>1</td>\n",
       "      <td>30</td>\n",
       "      <td>5.088408</td>\n",
       "      <td>2</td>\n",
       "      <td>{\"geodesic\":false,\"type\":\"Point\",\"coordinates\"...</td>\n",
       "    </tr>\n",
       "    <tr>\n",
       "      <th>1997</th>\n",
       "      <td>1997</td>\n",
       "      <td>247</td>\n",
       "      <td>0.564669</td>\n",
       "      <td>35</td>\n",
       "      <td>7</td>\n",
       "      <td>7724.409165</td>\n",
       "      <td>6998.109781</td>\n",
       "      <td>7724.409165</td>\n",
       "      <td>40736.210080</td>\n",
       "      <td>18052.426542</td>\n",
       "      <td>5894.879794</td>\n",
       "      <td>0.000000</td>\n",
       "      <td>9156.046019</td>\n",
       "      <td>7263.235223</td>\n",
       "      <td>34</td>\n",
       "      <td>-12555</td>\n",
       "      <td>-70338</td>\n",
       "      <td>1</td>\n",
       "      <td>35</td>\n",
       "      <td>3.669573</td>\n",
       "      <td>2</td>\n",
       "      <td>{\"geodesic\":false,\"type\":\"Point\",\"coordinates\"...</td>\n",
       "    </tr>\n",
       "    <tr>\n",
       "      <th>1998</th>\n",
       "      <td>1998</td>\n",
       "      <td>217</td>\n",
       "      <td>0.542588</td>\n",
       "      <td>33</td>\n",
       "      <td>8</td>\n",
       "      <td>2267.975849</td>\n",
       "      <td>8130.051134</td>\n",
       "      <td>34804.809659</td>\n",
       "      <td>8230.973444</td>\n",
       "      <td>24646.473573</td>\n",
       "      <td>1600.578021</td>\n",
       "      <td>583.305840</td>\n",
       "      <td>2267.975849</td>\n",
       "      <td>10969.817656</td>\n",
       "      <td>21</td>\n",
       "      <td>-12649</td>\n",
       "      <td>-69516</td>\n",
       "      <td>1</td>\n",
       "      <td>41</td>\n",
       "      <td>1.469858</td>\n",
       "      <td>2</td>\n",
       "      <td>{\"geodesic\":false,\"type\":\"Point\",\"coordinates\"...</td>\n",
       "    </tr>\n",
       "    <tr>\n",
       "      <th>1999</th>\n",
       "      <td>1999</td>\n",
       "      <td>237</td>\n",
       "      <td>0.505008</td>\n",
       "      <td>38</td>\n",
       "      <td>7</td>\n",
       "      <td>7496.826406</td>\n",
       "      <td>24145.235991</td>\n",
       "      <td>23598.135682</td>\n",
       "      <td>37154.277532</td>\n",
       "      <td>35322.335801</td>\n",
       "      <td>1200.239273</td>\n",
       "      <td>1486.903295</td>\n",
       "      <td>7496.826406</td>\n",
       "      <td>1432.067595</td>\n",
       "      <td>31</td>\n",
       "      <td>-12566</td>\n",
       "      <td>-70172</td>\n",
       "      <td>1</td>\n",
       "      <td>33</td>\n",
       "      <td>2.113799</td>\n",
       "      <td>2</td>\n",
       "      <td>{\"geodesic\":false,\"type\":\"Point\",\"coordinates\"...</td>\n",
       "    </tr>\n",
       "  </tbody>\n",
       "</table>\n",
       "<p>2000 rows × 22 columns</p>\n",
       "</div>"
      ],
      "text/plain": [
       "      system:index  ...                                               .geo\n",
       "0                0  ...  {\"geodesic\":false,\"type\":\"Point\",\"coordinates\"...\n",
       "1                1  ...  {\"geodesic\":false,\"type\":\"Point\",\"coordinates\"...\n",
       "2                2  ...  {\"geodesic\":false,\"type\":\"Point\",\"coordinates\"...\n",
       "3                3  ...  {\"geodesic\":false,\"type\":\"Point\",\"coordinates\"...\n",
       "4                4  ...  {\"geodesic\":false,\"type\":\"Point\",\"coordinates\"...\n",
       "...            ...  ...                                                ...\n",
       "1995          1995  ...  {\"geodesic\":false,\"type\":\"Point\",\"coordinates\"...\n",
       "1996          1996  ...  {\"geodesic\":false,\"type\":\"Point\",\"coordinates\"...\n",
       "1997          1997  ...  {\"geodesic\":false,\"type\":\"Point\",\"coordinates\"...\n",
       "1998          1998  ...  {\"geodesic\":false,\"type\":\"Point\",\"coordinates\"...\n",
       "1999          1999  ...  {\"geodesic\":false,\"type\":\"Point\",\"coordinates\"...\n",
       "\n",
       "[2000 rows x 22 columns]"
      ]
     },
     "metadata": {
      "tags": []
     },
     "execution_count": 12
    }
   ]
  },
  {
   "cell_type": "code",
   "metadata": {
    "id": "erLV5BRoGt3X",
    "colab": {
     "base_uri": "https://localhost:8080/",
     "height": 51
    },
    "outputId": "40fdf8b5-fff8-4f6e-e19e-fb7e80ea3ad1"
   },
   "source": [
    " \n",
    "confusion_matrix(aa['mined'],  [1 if y > 0.5 else 0 for y in aa['classification']])"
   ],
   "execution_count": null,
   "outputs": [
    {
     "output_type": "execute_result",
     "data": {
      "text/plain": [
       "array([[767, 233],\n",
       "       [323, 677]])"
      ]
     },
     "metadata": {
      "tags": []
     },
     "execution_count": 25
    }
   ]
  },
  {
   "cell_type": "code",
   "metadata": {
    "id": "Hbgla7HlBcVs",
    "colab": {
     "base_uri": "https://localhost:8080/"
    },
    "outputId": "bb525c8c-ddec-47ea-9434-9ca5afd8eaff"
   },
   "source": [
    "from sklearn.metrics import confusion_matrix, roc_auc_score, accuracy_score, recall_score, f1_score\n",
    "results = pd.DataFrame(columns = [\"AREA\",\"IN\",\"STRATEGY\",\"metric\",\"score\"])\n",
    "for string in strings:\n",
    "  name_splt =re.split(\"_\",string)\n",
    "  print(name_splt)\n",
    "  sampling_area = 'small_out' if 'out' in string else 'small' if ' small' in string else 'big'\n",
    "  inside_bool = 'in' if 'in' in string else 'out'\n",
    "  sampling_strategy = 'cluster' if 'clust' in string else 'strata'\n",
    "  \n",
    "  dato = pd.read_csv(string.strip())\n",
    "  y_pred = dato['classification']\n",
    "  y_pred_int = [1 if y > 0.5 else 0 for y in y_pred] #using a threshold of 0.5\n",
    "  y_true = dato['mined']\n",
    "\n",
    "  tn, fp, fn, tp = confusion_matrix(y_true, y_pred_int).ravel()\n",
    "  AUC = roc_auc_score(y_true, y_pred)\n",
    "  ACC = accuracy_score(y_true,y_pred_int)\n",
    "  F1 = f1_score(y_true, y_pred_int)\n",
    "  RECALL = recall_score(y_true, y_pred_int)\n",
    "  specificity = tn / (tn+fp)\n",
    "# \"AREA\":sampling_area, \"IN\":inside_bool,\"STRATEGY\":sampling_strategy, \n",
    "  scores = {\"AUC\":AUC, \"ACC\":ACC, \"REC\": RECALL, \"F1\": F1}\n",
    "  for key, value in scores.items():\n",
    "    to_append = {\"AREA\":sampling_area, \"IN\":inside_bool,\"STRATEGY\":sampling_strategy, \"metric\":key , \"score\":value, \"mode\": \"long\"}\n",
    "    results = results.append(to_append, ignore_index=True)  \n",
    "results.to_csv(\"data/results_long.csv\")\n",
    "\n"
   ],
   "execution_count": null,
   "outputs": [
    {
     "output_type": "stream",
     "text": [
      "[' big', 'in', 'clust.csv']\n",
      "[' big', 'in', 'strata.csv']\n",
      "[' small', 'in', 'clust.csv']\n",
      "[' small', 'in', 'strata.csv']\n",
      "[' small', 'out', 'clust.csv']\n",
      "[' small', 'out', 'strata.csv']\n"
     ],
     "name": "stdout"
    }
   ]
  },
  {
   "cell_type": "code",
   "metadata": {
    "id": "lbCDaBnHyP9I",
    "colab": {
     "base_uri": "https://localhost:8080/",
     "height": 802
    },
    "outputId": "a503aa62-5afa-4536-f28d-56f34ee41089"
   },
   "source": [
    "results"
   ],
   "execution_count": null,
   "outputs": [
    {
     "output_type": "execute_result",
     "data": {
      "text/html": [
       "<div>\n",
       "<style scoped>\n",
       "    .dataframe tbody tr th:only-of-type {\n",
       "        vertical-align: middle;\n",
       "    }\n",
       "\n",
       "    .dataframe tbody tr th {\n",
       "        vertical-align: top;\n",
       "    }\n",
       "\n",
       "    .dataframe thead th {\n",
       "        text-align: right;\n",
       "    }\n",
       "</style>\n",
       "<table border=\"1\" class=\"dataframe\">\n",
       "  <thead>\n",
       "    <tr style=\"text-align: right;\">\n",
       "      <th></th>\n",
       "      <th>AREA</th>\n",
       "      <th>IN</th>\n",
       "      <th>STRATEGY</th>\n",
       "      <th>metric</th>\n",
       "      <th>score</th>\n",
       "      <th>mode</th>\n",
       "    </tr>\n",
       "  </thead>\n",
       "  <tbody>\n",
       "    <tr>\n",
       "      <th>0</th>\n",
       "      <td>big</td>\n",
       "      <td>in</td>\n",
       "      <td>cluster</td>\n",
       "      <td>AUC</td>\n",
       "      <td>0.968111</td>\n",
       "      <td>long</td>\n",
       "    </tr>\n",
       "    <tr>\n",
       "      <th>1</th>\n",
       "      <td>big</td>\n",
       "      <td>in</td>\n",
       "      <td>cluster</td>\n",
       "      <td>ACC</td>\n",
       "      <td>0.900065</td>\n",
       "      <td>long</td>\n",
       "    </tr>\n",
       "    <tr>\n",
       "      <th>2</th>\n",
       "      <td>big</td>\n",
       "      <td>in</td>\n",
       "      <td>cluster</td>\n",
       "      <td>REC</td>\n",
       "      <td>0.928281</td>\n",
       "      <td>long</td>\n",
       "    </tr>\n",
       "    <tr>\n",
       "      <th>3</th>\n",
       "      <td>big</td>\n",
       "      <td>in</td>\n",
       "      <td>cluster</td>\n",
       "      <td>F1</td>\n",
       "      <td>0.899672</td>\n",
       "      <td>long</td>\n",
       "    </tr>\n",
       "    <tr>\n",
       "      <th>4</th>\n",
       "      <td>big</td>\n",
       "      <td>in</td>\n",
       "      <td>strata</td>\n",
       "      <td>AUC</td>\n",
       "      <td>0.973328</td>\n",
       "      <td>long</td>\n",
       "    </tr>\n",
       "    <tr>\n",
       "      <th>5</th>\n",
       "      <td>big</td>\n",
       "      <td>in</td>\n",
       "      <td>strata</td>\n",
       "      <td>ACC</td>\n",
       "      <td>0.929397</td>\n",
       "      <td>long</td>\n",
       "    </tr>\n",
       "    <tr>\n",
       "      <th>6</th>\n",
       "      <td>big</td>\n",
       "      <td>in</td>\n",
       "      <td>strata</td>\n",
       "      <td>REC</td>\n",
       "      <td>0.961089</td>\n",
       "      <td>long</td>\n",
       "    </tr>\n",
       "    <tr>\n",
       "      <th>7</th>\n",
       "      <td>big</td>\n",
       "      <td>in</td>\n",
       "      <td>strata</td>\n",
       "      <td>F1</td>\n",
       "      <td>0.930905</td>\n",
       "      <td>long</td>\n",
       "    </tr>\n",
       "    <tr>\n",
       "      <th>8</th>\n",
       "      <td>small</td>\n",
       "      <td>in</td>\n",
       "      <td>cluster</td>\n",
       "      <td>AUC</td>\n",
       "      <td>0.941505</td>\n",
       "      <td>long</td>\n",
       "    </tr>\n",
       "    <tr>\n",
       "      <th>9</th>\n",
       "      <td>small</td>\n",
       "      <td>in</td>\n",
       "      <td>cluster</td>\n",
       "      <td>ACC</td>\n",
       "      <td>0.865152</td>\n",
       "      <td>long</td>\n",
       "    </tr>\n",
       "    <tr>\n",
       "      <th>10</th>\n",
       "      <td>small</td>\n",
       "      <td>in</td>\n",
       "      <td>cluster</td>\n",
       "      <td>REC</td>\n",
       "      <td>0.805970</td>\n",
       "      <td>long</td>\n",
       "    </tr>\n",
       "    <tr>\n",
       "      <th>11</th>\n",
       "      <td>small</td>\n",
       "      <td>in</td>\n",
       "      <td>cluster</td>\n",
       "      <td>F1</td>\n",
       "      <td>0.829175</td>\n",
       "      <td>long</td>\n",
       "    </tr>\n",
       "    <tr>\n",
       "      <th>12</th>\n",
       "      <td>small</td>\n",
       "      <td>in</td>\n",
       "      <td>strata</td>\n",
       "      <td>AUC</td>\n",
       "      <td>0.946147</td>\n",
       "      <td>long</td>\n",
       "    </tr>\n",
       "    <tr>\n",
       "      <th>13</th>\n",
       "      <td>small</td>\n",
       "      <td>in</td>\n",
       "      <td>strata</td>\n",
       "      <td>ACC</td>\n",
       "      <td>0.866147</td>\n",
       "      <td>long</td>\n",
       "    </tr>\n",
       "    <tr>\n",
       "      <th>14</th>\n",
       "      <td>small</td>\n",
       "      <td>in</td>\n",
       "      <td>strata</td>\n",
       "      <td>REC</td>\n",
       "      <td>0.882586</td>\n",
       "      <td>long</td>\n",
       "    </tr>\n",
       "    <tr>\n",
       "      <th>15</th>\n",
       "      <td>small</td>\n",
       "      <td>in</td>\n",
       "      <td>strata</td>\n",
       "      <td>F1</td>\n",
       "      <td>0.866580</td>\n",
       "      <td>long</td>\n",
       "    </tr>\n",
       "    <tr>\n",
       "      <th>16</th>\n",
       "      <td>small_out</td>\n",
       "      <td>out</td>\n",
       "      <td>cluster</td>\n",
       "      <td>AUC</td>\n",
       "      <td>0.800866</td>\n",
       "      <td>long</td>\n",
       "    </tr>\n",
       "    <tr>\n",
       "      <th>17</th>\n",
       "      <td>small_out</td>\n",
       "      <td>out</td>\n",
       "      <td>cluster</td>\n",
       "      <td>ACC</td>\n",
       "      <td>0.722000</td>\n",
       "      <td>long</td>\n",
       "    </tr>\n",
       "    <tr>\n",
       "      <th>18</th>\n",
       "      <td>small_out</td>\n",
       "      <td>out</td>\n",
       "      <td>cluster</td>\n",
       "      <td>REC</td>\n",
       "      <td>0.677000</td>\n",
       "      <td>long</td>\n",
       "    </tr>\n",
       "    <tr>\n",
       "      <th>19</th>\n",
       "      <td>small_out</td>\n",
       "      <td>out</td>\n",
       "      <td>cluster</td>\n",
       "      <td>F1</td>\n",
       "      <td>0.708901</td>\n",
       "      <td>long</td>\n",
       "    </tr>\n",
       "    <tr>\n",
       "      <th>20</th>\n",
       "      <td>small_out</td>\n",
       "      <td>out</td>\n",
       "      <td>strata</td>\n",
       "      <td>AUC</td>\n",
       "      <td>0.786796</td>\n",
       "      <td>long</td>\n",
       "    </tr>\n",
       "    <tr>\n",
       "      <th>21</th>\n",
       "      <td>small_out</td>\n",
       "      <td>out</td>\n",
       "      <td>strata</td>\n",
       "      <td>ACC</td>\n",
       "      <td>0.716000</td>\n",
       "      <td>long</td>\n",
       "    </tr>\n",
       "    <tr>\n",
       "      <th>22</th>\n",
       "      <td>small_out</td>\n",
       "      <td>out</td>\n",
       "      <td>strata</td>\n",
       "      <td>REC</td>\n",
       "      <td>0.760000</td>\n",
       "      <td>long</td>\n",
       "    </tr>\n",
       "    <tr>\n",
       "      <th>23</th>\n",
       "      <td>small_out</td>\n",
       "      <td>out</td>\n",
       "      <td>strata</td>\n",
       "      <td>F1</td>\n",
       "      <td>0.727969</td>\n",
       "      <td>long</td>\n",
       "    </tr>\n",
       "  </tbody>\n",
       "</table>\n",
       "</div>"
      ],
      "text/plain": [
       "         AREA   IN STRATEGY metric     score  mode\n",
       "0         big   in  cluster    AUC  0.968111  long\n",
       "1         big   in  cluster    ACC  0.900065  long\n",
       "2         big   in  cluster    REC  0.928281  long\n",
       "3         big   in  cluster     F1  0.899672  long\n",
       "4         big   in   strata    AUC  0.973328  long\n",
       "5         big   in   strata    ACC  0.929397  long\n",
       "6         big   in   strata    REC  0.961089  long\n",
       "7         big   in   strata     F1  0.930905  long\n",
       "8       small   in  cluster    AUC  0.941505  long\n",
       "9       small   in  cluster    ACC  0.865152  long\n",
       "10      small   in  cluster    REC  0.805970  long\n",
       "11      small   in  cluster     F1  0.829175  long\n",
       "12      small   in   strata    AUC  0.946147  long\n",
       "13      small   in   strata    ACC  0.866147  long\n",
       "14      small   in   strata    REC  0.882586  long\n",
       "15      small   in   strata     F1  0.866580  long\n",
       "16  small_out  out  cluster    AUC  0.800866  long\n",
       "17  small_out  out  cluster    ACC  0.722000  long\n",
       "18  small_out  out  cluster    REC  0.677000  long\n",
       "19  small_out  out  cluster     F1  0.708901  long\n",
       "20  small_out  out   strata    AUC  0.786796  long\n",
       "21  small_out  out   strata    ACC  0.716000  long\n",
       "22  small_out  out   strata    REC  0.760000  long\n",
       "23  small_out  out   strata     F1  0.727969  long"
      ]
     },
     "metadata": {
      "tags": []
     },
     "execution_count": 14
    }
   ]
  },
  {
   "cell_type": "code",
   "metadata": {
    "id": "uf5R72EMdRGN",
    "colab": {
     "base_uri": "https://localhost:8080/",
     "height": 136
    },
    "outputId": "07fd217d-b0be-4951-8990-22c6113e5464"
   },
   "source": [
    "dirListing = !ls\n",
    "strings = [name for name in dirListing if \"shortterm\" in name]\n",
    "print(len(strings))\n",
    "for string in strings:\n",
    "  name_splt =re.split(\"_\",string)\n",
    "  # if \"nolatlon\" not in name_splt[-1]:\n",
    "  print(name_splt)"
   ],
   "execution_count": null,
   "outputs": [
    {
     "output_type": "stream",
     "text": [
      "6\n",
      "[' big', 'in', 'clust', 'shortterm.csv']\n",
      "[' big', 'in', 'strata', 'shortterm.csv']\n",
      "[' small', 'in', 'clust', 'shortterm.csv']\n",
      "[' small', 'in', 'strata', 'shortterm.csv']\n",
      "[' small', 'out', 'clust', 'shortterm.csv']\n",
      "[' small', 'out', 'strata', 'shortterm.csv']\n"
     ],
     "name": "stdout"
    }
   ]
  },
  {
   "cell_type": "code",
   "metadata": {
    "id": "VI4beMePPXSz"
   },
   "source": [
    "from sklearn.metrics import confusion_matrix, roc_auc_score, accuracy_score, recall_score, f1_score\n",
    "results = pd.DataFrame(columns = [\"AREA\",\"IN\",\"STRATEGY\",\"metric\",\"score\"])\n",
    "for string in strings:\n",
    "  name_splt =re.split(\"_\",string)\n",
    "  print(name_splt)\n",
    "  sampling_area = 'small_out' if 'out' in string else 'small' if ' small' in string else 'big'\n",
    "  inside_bool = 'in' if 'in' in string else 'out'\n",
    "  sampling_strategy = 'cluster' if 'clust' in string else 'strata'\n",
    "  \n",
    "  dato = pd.read_csv(string.strip())\n",
    "  y_pred = dato['classification']\n",
    "  y_pred_int = [1 if y > 0.5 else 0 for y in y_pred] #using a threshold of 0.5\n",
    "  y_true = dato['0_mined']\n",
    "\n",
    "  tn, fp, fn, tp = confusion_matrix(y_true, y_pred_int).ravel()\n",
    "  AUC = roc_auc_score(y_true, y_pred)\n",
    "  ACC = accuracy_score(y_true,y_pred_int)\n",
    "  F1 = f1_score(y_true, y_pred_int)\n",
    "  RECALL = recall_score(y_true, y_pred_int)\n",
    "  specificity = tn / (tn+fp)\n",
    "# \"AREA\":sampling_area, \"IN\":inside_bool,\"STRATEGY\":sampling_strategy, \n",
    "  scores = {\"AUC\":AUC, \"ACC\":ACC, \"REC\": RECALL, \"F1\": F1}\n",
    "  for key, value in scores.items():\n",
    "    to_append = {\"AREA\":sampling_area, \"IN\":inside_bool,\"STRATEGY\":sampling_strategy, \"metric\":key , \"score\":value, \"mode\": \"short\"}\n",
    "    results = results.append(to_append, ignore_index=True)  \n",
    "results.to_csv(\"data/results_short.csv\")\n"
   ],
   "execution_count": null,
   "outputs": []
  },
  {
   "cell_type": "code",
   "metadata": {
    "id": "Q_gseiyjPW3c"
   },
   "source": [
    "results_short = pd.read_csv('data/results_short.csv')\n",
    "results_long = pd.read_csv('data/results_long.csv')\n",
    "total_results = pd.concat([results_long, results_short], ignore_index=True)\n",
    "total_results.to_csv(\"data/total_results.csv\")"
   ],
   "execution_count": null,
   "outputs": []
  },
  {
   "cell_type": "code",
   "metadata": {
    "id": "n4-J7dJ75Ulh"
   },
   "source": [
    "%%R\n",
    "metric_names = c(\n",
    "                    'ACC' = \"Accuracy\",\n",
    "                    'AUC' = \"AUC\",\n",
    "                    'F1' = \"f1\",\n",
    "                    'REC' = \"Recall\"\n",
    "                    )"
   ],
   "execution_count": null,
   "outputs": []
  },
  {
   "cell_type": "code",
   "metadata": {
    "id": "rI3hezJmVSc0",
    "colab": {
     "base_uri": "https://localhost:8080/",
     "height": 374
    },
    "outputId": "4b2c59a1-e262-4b14-e3de-efa1ee126d90"
   },
   "source": [
    "%%R\n",
    "data = read.csv(\"data/total_results.csv\")\n",
    "data$model= paste(data$AREA,data$STRATEGY)\n",
    "head(data,20)"
   ],
   "execution_count": null,
   "outputs": [
    {
     "output_type": "stream",
     "text": [
      "    X Unnamed..0      AREA  IN STRATEGY metric     score mode             model\n",
      "1   0          0       big  in  cluster    AUC 0.9681114 long       big cluster\n",
      "2   1          1       big  in  cluster    ACC 0.9000653 long       big cluster\n",
      "3   2          2       big  in  cluster    REC 0.9282815 long       big cluster\n",
      "4   3          3       big  in  cluster     F1 0.8996721 long       big cluster\n",
      "5   4          4       big  in   strata    AUC 0.9733279 long        big strata\n",
      "6   5          5       big  in   strata    ACC 0.9293967 long        big strata\n",
      "7   6          6       big  in   strata    REC 0.9610895 long        big strata\n",
      "8   7          7       big  in   strata     F1 0.9309045 long        big strata\n",
      "9   8          8     small  in  cluster    AUC 0.9415050 long     small cluster\n",
      "10  9          9     small  in  cluster    ACC 0.8651515 long     small cluster\n",
      "11 10         10     small  in  cluster    REC 0.8059701 long     small cluster\n",
      "12 11         11     small  in  cluster     F1 0.8291747 long     small cluster\n",
      "13 12         12     small  in   strata    AUC 0.9461468 long      small strata\n",
      "14 13         13     small  in   strata    ACC 0.8661468 long      small strata\n",
      "15 14         14     small  in   strata    REC 0.8825858 long      small strata\n",
      "16 15         15     small  in   strata     F1 0.8665803 long      small strata\n",
      "17 16         16 small_out out  cluster    AUC 0.8008660 long small_out cluster\n",
      "18 17         17 small_out out  cluster    ACC 0.7220000 long small_out cluster\n",
      "19 18         18 small_out out  cluster    REC 0.6770000 long small_out cluster\n",
      "20 19         19 small_out out  cluster     F1 0.7089005 long small_out cluster\n"
     ],
     "name": "stdout"
    }
   ]
  },
  {
   "cell_type": "code",
   "metadata": {
    "colab": {
     "base_uri": "https://localhost:8080/"
    },
    "id": "JtiX2QY9C1b_",
    "outputId": "022caa97-fca1-4816-b18c-ef963718a3d8"
   },
   "source": [
    "%%R\n",
    "\n",
    "data = read.csv(\"data/total_results.csv\")\n",
    "data$mode = as.factor(data$mode)\n",
    "levels(data$mode)"
   ],
   "execution_count": null,
   "outputs": [
    {
     "output_type": "stream",
     "text": [
      "[1] \"long\"  \"short\"\n"
     ],
     "name": "stdout"
    }
   ]
  },
  {
   "cell_type": "code",
   "metadata": {
    "id": "bAZZfrg-UdpI"
   },
   "source": [
    "%%R\n",
    "\n",
    "data = read.csv(\"data/total_results.csv\")\n",
    "data$model= paste(data$AREA,data$STRATEGY)\n",
    "data$mode = as.factor(data$mode)\n",
    "levels(data$metric) <- c(\"Accuracy\", \"AUC\", \"f1\", \"Recall\")\n",
    "levels(data$mode) <- c(\"Static\", \"Temporal\")\n",
    "graph = ggplot(data, aes(x = .data[['model']], y=data$score)) + \n",
    "  # geom_histogram(alpha=0.5,position = 'identity', bins= 100 ) + \n",
    "  geom_point(aes( color =data$STRATEGY, \n",
    "                 shape = data$AREA), size=4, stroke=0.7) + \n",
    "  ylab(\"Score\") + \n",
    "  xlab(\"Metric\") + \n",
    "  facet_grid(rows = vars(data$mode), cols = vars(data$metric)) + #scales='free'\n",
    "  theme_linedraw() + \n",
    "  labs(shape = \"Sampling region\", color= \"Sampling strategy\") +\n",
    "  # scale_x_discrete(labels = c(\"Accuracy\", \"AUC\", \"f1-score\",\"Recall\")) +\n",
    "  scale_x_discrete(labels = c(\"A\", \"B\", \"C\", \"D\", \"C*\", \"D*\")) +\n",
    "  # xlim(0,50) +\n",
    "  # scale_y_continuous(breaks = c(0,0.5), limits = c(0,0.5))+\n",
    "  # coord_cartesian(xlim =c(0, 50), ylim = c(0, 0.5))+\n",
    "  scale_color_manual(values=c(\"#1f78b4\",\"#33a02c\"), labels = c(\"stratified-from-clusters\", \"stratified-only\")) + \n",
    "  scale_shape_manual(values = c (21,22,24),labels = c(\"FULL\", \"HR (inner)\", \"HR (outter)\")) + \n",
    "  theme(text=element_text(size=14), \n",
    "        strip.background = element_rect(fill=\"black\"), axis.text.x = element_text(size=16, angle=0, hjust=0.5), \n",
    "        strip.text = element_text(size=20),\n",
    "        # axis.text.y = element_blank(),\n",
    "        axis.ticks.y = element_blank(),\n",
    "        # panel.grid.major.y = element_blank(),\n",
    "        panel.grid.minor.y = element_blank())\n",
    "graph\n",
    "ggsave(filename = 'results_metrics_270821.png',plot=graph, width=12, height=6,path ='/outputs' ,device= 'png',dpi = 300)"
   ],
   "execution_count": null,
   "outputs": []
  },
  {
   "cell_type": "code",
   "metadata": {
    "id": "Wwe_FeTLQqVd",
    "colab": {
     "base_uri": "https://localhost:8080/",
     "height": 497
    },
    "outputId": "8de39a07-9d55-4e73-9ffd-98b31e7566de"
   },
   "source": [
    "%%R\n",
    "\n",
    "data = read.csv(\"data/total_results.csv\")\n",
    "levels(data$metric) <- c(\"Accuracy\", \"AUC\", \"f1\", \"Recall\")\n",
    "levels(data$mode) <- c(\"Static\", \"Temporal\")\n",
    "graph = ggplot(data, aes(x = data$AREA, y=data$score)) + \n",
    "  # geom_histogram(alpha=0.5,position = 'identity', bins= 100 ) + \n",
    "  geom_point(aes(color =data$STRATEGY, \n",
    "                 shape = data$AREA), size=4, stroke=0.7) + \n",
    "  ylab(\"Score\") + \n",
    "  xlab(\"Metric\") + \n",
    "  facet_grid(rows = vars(data$mode), cols = vars(data$metric)) + #scales='free'\n",
    "  theme_linedraw() + \n",
    "  labs(shape = \"Sampling region\", color= \"Sampling strategy\") +\n",
    "  # scale_x_discrete(labels = c(\"Accuracy\", \"AUC\", \"f1-score\",\"Recall\")) +\n",
    "  scale_x_discrete(labels = c(\"Complete\", \"Small (inside)\", \"Small (outside)\")) +\n",
    "  # xlim(0,50) +\n",
    "  # scale_y_continuous(breaks = c(0,0.5), limits = c(0,0.5))+\n",
    "  # coord_cartesian(xlim =c(0, 50), ylim = c(0, 0.5))+\n",
    "  scale_color_manual(values=c(\"#1f78b4\",\"#33a02c\"), labels = c(\"Stratified + clustering\", \"Stratified\")) + \n",
    "  scale_shape_manual(values = c (21,22,24),labels = c(\"Complete\", \"Small (inside)\", \"Small (outside)\")) + \n",
    "  theme(text=element_text(size=14), \n",
    "        strip.background = element_rect(fill=\"black\"), axis.text.x = element_text(angle=30, hjust=1), \n",
    "        # axis.text.y = element_blank(),\n",
    "        axis.ticks.y = element_blank(),\n",
    "        panel.grid.major.y = element_blank(),\n",
    "        panel.grid.minor.y = element_blank())\n",
    "graph\n",
    "ggsave(filename = 'results_metrics.png',plot=graph, width=8, height=6,path ='/outputs' ,device= 'png',dpi = 300)"
   ],
   "execution_count": null,
   "outputs": [
    {
     "output_type": "display_data",
     "data": {
      "image/png": "[encoded data removed]"
     },
     "metadata": {
      "tags": []
     }
    }
   ]
  },
  {
   "cell_type": "code",
   "metadata": {
    "id": "AFWCr2oL9avu"
   },
   "source": [
    "%%R\n",
    "data = read.csv(\"data/total_results.csv\")\n",
    "levels(data$metric) <- c(\"Accuracy\", \"AUC\", \"f1\", \"Recall\")\n",
    "levels(data$mode) <- c(\"Static\", \"Temporal\")\n",
    "graph = ggplot(data, aes(x = data$metric, y=data$score)) + \n",
    "  # geom_histogram(alpha=0.5,position = 'identity', bins= 100 ) + \n",
    "  geom_point(aes(color = data$AREA, \n",
    "                 shape = data$STRATEGY), size=4, stroke=0.7) + \n",
    "  ylab(\"Score\") + \n",
    "  xlab(\"Metric\") + \n",
    "  facet_grid(rows = vars(data$mode)) + #scales='free'\n",
    "  theme_linedraw() + \n",
    "  labs(shape = \"Sampling strategy\", color= \"Sampling region\") +\n",
    "  scale_x_discrete(labels = c(\"Accuracy\", \"AUC\", \"f1-score\",\"Recall\")) +\n",
    "  # scale_x_discrete(labels = c(\"Complete\", \"Small (inside)\", \"Small (outside)\")) +\n",
    "  # xlim(0,50) +\n",
    "  # scale_y_continuous(breaks = c(0,0.5), limits = c(0,0.5))+\n",
    "  # coord_cartesian(xlim =c(0, 50), ylim = c(0, 0.5))+\n",
    "  scale_color_manual(values=c(\"#1f78b4\",\"#33a02c\", \"#fdbf6f\"), labels = c(\"Complete\", \"Small (inside)\", \"Small (outside)\")) + \n",
    "  scale_shape_manual(values = c (23,22),labels = c(\"Stratified + clustering\", \"Stratified\")) + \n",
    "  theme(text=element_text(size=14), \n",
    "        strip.background = element_rect(fill=\"black\"), axis.text.x = element_text(angle=30, hjust=1), \n",
    "        # axis.text.y = element_blank(),\n",
    "        axis.ticks.y = element_blank(),\n",
    "        panel.grid.major.y = element_blank(),\n",
    "        panel.grid.minor.y = element_blank())\n",
    "graph\n",
    "ggsave(filename = 'results_metrics.png',plot=graph, width=8, height=6,path ='/outputs/' ,device= 'png',dpi = 300)"
   ],
   "execution_count": null,
   "outputs": []
  },
  {
   "cell_type": "code",
   "metadata": {
    "id": "qjIwraOYA6Pp"
   },
   "source": [
    "%%R\n",
    "results = read.csv('data/results.csv')\n",
    "results"
   ],
   "execution_count": null,
   "outputs": []
  },
  {
   "cell_type": "code",
   "metadata": {
    "id": "2g_gn5-IB_RS"
   },
   "source": [
    "%%R\n",
    "data = read.csv('data/data_160620_big_roi.csv')\n",
    "data$first = as.factor(data$mined)\n",
    "var_min = data[which(data$mined==1),]\n",
    "var_min_no = data[which(data$mined==0),]\n",
    "head(var_min,1)"
   ],
   "execution_count": null,
   "outputs": []
  },
  {
   "cell_type": "code",
   "metadata": {
    "id": "7lAJNRnYCB2i",
    "colab": {
     "base_uri": "https://localhost:8080/",
     "height": 51
    },
    "outputId": "e3ccf1ef-0f1d-439f-f998-c597a2d793d1"
   },
   "source": [
    "%%R\n",
    "graph = ggplot(data, aes(x=data$distance_nac/1000, fill = factor(data$first))) + \n",
    "  geom_histogram(alpha=0.5,position = 'identity', bins= 100 ) + ylab(\"Mined pixels\") + \n",
    "  xlab(\"Distance to road (km)\") + \n",
    "  # facet_grid(rows =data$year ) + \n",
    "  theme_linedraw() + labs(fill = \"Mined\") +\n",
    "  scale_fill_manual(values=c(\"#AB4024\", \"#3193D1\")) + \n",
    "  theme(strip.background = element_rect(fill=\"black\"), text = element_text(size = 15), axis.title.y = element_text (margin = margin(t = 0, r = 10, b = 0, l = 0)), axis.title.x = element_text (margin = margin(t = 10, r = 0, b = 0, l = 0)) )\n",
    "graph\n",
    "\n",
    "ggsave(filename = 'dist_nac.png',plot=graph, scale = 1,path ='/outputs' ,device= 'png',dpi = 600)\n"
   ],
   "execution_count": null,
   "outputs": [
    {
     "output_type": "stream",
     "text": [
      "R[write to console]: Saving 6.67 x 6.67 in image\n",
      "\n"
     ],
     "name": "stderr"
    }
   ]
  },
  {
   "cell_type": "code",
   "metadata": {
    "id": "3hziEZV0_I9j",
    "colab": {
     "base_uri": "https://localhost:8080/"
    },
    "outputId": "dd4b76be-e0a6-4fb8-d4c5-493b9224a88b"
   },
   "source": [
    "%%R\n",
    "results = read.csv('data/results.csv')\n",
    "results$model = as.factor(results$model)\n",
    "levels(results$model)  = c(\"A\", \"B\", \"C\",\"D\")\n",
    "head(results,1)"
   ],
   "execution_count": null,
   "outputs": [
    {
     "output_type": "stream",
     "name": "stdout",
     "text": [
      "  X model metric     score trees\n",
      "1 0     C    AUC 0.9982125   100\n"
     ]
    }
   ]
  },
  {
   "cell_type": "code",
   "metadata": {
    "id": "VstM63_FCXBE",
    "colab": {
     "base_uri": "https://localhost:8080/",
     "height": 497
    },
    "outputId": "e58bb56b-6343-47d3-f010-0ef448572821"
   },
   "source": [
    "%%R\n",
    "graph2 = ggplot(data=results, aes(x=trees,y = score)) + \n",
    "         geom_point(shape = 4, colour=\"#3193D1\", size =2) +\n",
    "         geom_line(alpha=0.8, size = 0.4, colour=\"#3193D1\")+\n",
    "  facet_grid(rows = vars(metric), cols=vars(model)) + \n",
    "   ylab(\"Score value\") + xlab(\"Number of trees\")+\n",
    "  # xlab(\"Trees\") + facet_grid(columns =results$metric ) + \n",
    "  # theme_linedraw() + labs(fill = \"Mined\") +\n",
    "  # scale_fill_manual(values=c(\"#AB4024\", \"#3193D1\")) + \n",
    "  theme_linedraw()+\n",
    "  theme(text = element_text(size=15),strip.background = element_rect(fill=\"black\"),axis.text.x = element_text(angle=30, hjust=1), axis.title.y = element_text (margin = margin(t = 0, r = 10, b = 0, l = 0)), axis.title.x = element_text (margin = margin(t = 10, r = 0, b = 0, l = 0)))\n",
    "graph2\n",
    "ggsave(filename = 'trees_acc.png',plot=graph2, scale = 1,path ='/outputs' ,device= 'png',dpi = 600)\n"
   ],
   "execution_count": null,
   "outputs": [
    {
     "output_type": "display_data",
     "data": {
      "image/png": "[encoded data removed]"
     },
     "metadata": {}
    }
   ]
  },
  {
   "cell_type": "markdown",
   "metadata": {
    "id": "xHWBbn3ESfqp"
   },
   "source": [
    "# Se redujeron dividieron los datos en prueba y entrenamiento:"
   ]
  },
  {
   "cell_type": "code",
   "metadata": {
    "id": "sO9DhoQO0cFk",
    "colab": {
     "base_uri": "https://localhost:8080/",
     "height": 206
    },
    "outputId": "0a9877f5-c55e-435e-ba0c-611a8d2136e4"
   },
   "source": [
    "data_new = pd.read_csv('data_160620_big_roi.csv')\n",
    "bands =  ['distance_any','distance_dep','distance_vec','distance_nac','distance_buffer','distance_parks','distance_villages','altitude',\n",
    "              'slope', 'landform', 'distance_rivers','distance_ponds']\n",
    "undesired=['system:index', \"latitude_209564535\",\"longitude_209564535\", \".geo\", \"type_2_prev\", \"type_3_prev\",\"type_prev\",\"type\", \"scale\", \n",
    "           \"offset\",\n",
    "           \"longitude\",\n",
    "           \"latitude\", \"year\",\"price_after\",\"price_before\", \"price_dif\"]\n",
    "feature_columns= data_new.drop(columns=undesired).columns.values\n",
    "\n",
    "X = data_new[bands]\n",
    "y = data_new['mined']\n",
    "X.head()"
   ],
   "execution_count": null,
   "outputs": [
    {
     "output_type": "execute_result",
     "data": {
      "text/plain": [
       "   distance_any  distance_dep  distance_vec  distance_nac  distance_buffer  \\\n",
       "0  21213.596722  34717.580050  24019.113005  21213.596722      5725.887404   \n",
       "1  11820.738011  11820.738011  13262.735838  44531.623773     10611.885501   \n",
       "2   3338.243657  12544.108402   5162.291774   3338.243657      3158.079192   \n",
       "3   2102.877013  32791.288809   2102.877013   2302.717565      2280.890365   \n",
       "4   6217.592962   6217.592962   7061.226128  42436.826093      1421.422622   \n",
       "\n",
       "   distance_parks  distance_villages  altitude     slope  landform  \\\n",
       "0        0.000000       21932.889217       277  4.399417        31   \n",
       "1    20994.420551       10437.004558       279  1.990801        21   \n",
       "2    24539.135225       20757.882005       287  1.328471        34   \n",
       "3    15905.019940        3225.666089       257  1.469990        24   \n",
       "4    11044.759054        7061.226128       249  7.263944        31   \n",
       "\n",
       "   distance_rivers  distance_ponds  \n",
       "0         0.000000     8704.394410  \n",
       "1      1000.142617     8982.372102  \n",
       "2       200.034743    12527.749724  \n",
       "3      1562.419505    12345.124097  \n",
       "4      2607.966416      500.054733  "
      ],
      "text/html": [
       "\n",
       "  <div id=\"df-fa25182b-915a-4ed3-a1a9-6954a9a0a443\">\n",
       "    <div class=\"colab-df-container\">\n",
       "      <div>\n",
       "<style scoped>\n",
       "    .dataframe tbody tr th:only-of-type {\n",
       "        vertical-align: middle;\n",
       "    }\n",
       "\n",
       "    .dataframe tbody tr th {\n",
       "        vertical-align: top;\n",
       "    }\n",
       "\n",
       "    .dataframe thead th {\n",
       "        text-align: right;\n",
       "    }\n",
       "</style>\n",
       "<table border=\"1\" class=\"dataframe\">\n",
       "  <thead>\n",
       "    <tr style=\"text-align: right;\">\n",
       "      <th></th>\n",
       "      <th>distance_any</th>\n",
       "      <th>distance_dep</th>\n",
       "      <th>distance_vec</th>\n",
       "      <th>distance_nac</th>\n",
       "      <th>distance_buffer</th>\n",
       "      <th>distance_parks</th>\n",
       "      <th>distance_villages</th>\n",
       "      <th>altitude</th>\n",
       "      <th>slope</th>\n",
       "      <th>landform</th>\n",
       "      <th>distance_rivers</th>\n",
       "      <th>distance_ponds</th>\n",
       "    </tr>\n",
       "  </thead>\n",
       "  <tbody>\n",
       "    <tr>\n",
       "      <th>0</th>\n",
       "      <td>21213.596722</td>\n",
       "      <td>34717.580050</td>\n",
       "      <td>24019.113005</td>\n",
       "      <td>21213.596722</td>\n",
       "      <td>5725.887404</td>\n",
       "      <td>0.000000</td>\n",
       "      <td>21932.889217</td>\n",
       "      <td>277</td>\n",
       "      <td>4.399417</td>\n",
       "      <td>31</td>\n",
       "      <td>0.000000</td>\n",
       "      <td>8704.394410</td>\n",
       "    </tr>\n",
       "    <tr>\n",
       "      <th>1</th>\n",
       "      <td>11820.738011</td>\n",
       "      <td>11820.738011</td>\n",
       "      <td>13262.735838</td>\n",
       "      <td>44531.623773</td>\n",
       "      <td>10611.885501</td>\n",
       "      <td>20994.420551</td>\n",
       "      <td>10437.004558</td>\n",
       "      <td>279</td>\n",
       "      <td>1.990801</td>\n",
       "      <td>21</td>\n",
       "      <td>1000.142617</td>\n",
       "      <td>8982.372102</td>\n",
       "    </tr>\n",
       "    <tr>\n",
       "      <th>2</th>\n",
       "      <td>3338.243657</td>\n",
       "      <td>12544.108402</td>\n",
       "      <td>5162.291774</td>\n",
       "      <td>3338.243657</td>\n",
       "      <td>3158.079192</td>\n",
       "      <td>24539.135225</td>\n",
       "      <td>20757.882005</td>\n",
       "      <td>287</td>\n",
       "      <td>1.328471</td>\n",
       "      <td>34</td>\n",
       "      <td>200.034743</td>\n",
       "      <td>12527.749724</td>\n",
       "    </tr>\n",
       "    <tr>\n",
       "      <th>3</th>\n",
       "      <td>2102.877013</td>\n",
       "      <td>32791.288809</td>\n",
       "      <td>2102.877013</td>\n",
       "      <td>2302.717565</td>\n",
       "      <td>2280.890365</td>\n",
       "      <td>15905.019940</td>\n",
       "      <td>3225.666089</td>\n",
       "      <td>257</td>\n",
       "      <td>1.469990</td>\n",
       "      <td>24</td>\n",
       "      <td>1562.419505</td>\n",
       "      <td>12345.124097</td>\n",
       "    </tr>\n",
       "    <tr>\n",
       "      <th>4</th>\n",
       "      <td>6217.592962</td>\n",
       "      <td>6217.592962</td>\n",
       "      <td>7061.226128</td>\n",
       "      <td>42436.826093</td>\n",
       "      <td>1421.422622</td>\n",
       "      <td>11044.759054</td>\n",
       "      <td>7061.226128</td>\n",
       "      <td>249</td>\n",
       "      <td>7.263944</td>\n",
       "      <td>31</td>\n",
       "      <td>2607.966416</td>\n",
       "      <td>500.054733</td>\n",
       "    </tr>\n",
       "  </tbody>\n",
       "</table>\n",
       "</div>\n",
       "      <button class=\"colab-df-convert\" onclick=\"convertToInteractive('df-fa25182b-915a-4ed3-a1a9-6954a9a0a443')\"\n",
       "              title=\"Convert this dataframe to an interactive table.\"\n",
       "              style=\"display:none;\">\n",
       "        \n",
       "  <svg xmlns=\"http://www.w3.org/2000/svg\" height=\"24px\"viewBox=\"0 0 24 24\"\n",
       "       width=\"24px\">\n",
       "    <path d=\"M0 0h24v24H0V0z\" fill=\"none\"/>\n",
       "    <path d=\"M18.56 5.44l.94 2.06.94-2.06 2.06-.94-2.06-.94-.94-2.06-.94 2.06-2.06.94zm-11 1L8.5 8.5l.94-2.06 2.06-.94-2.06-.94L8.5 2.5l-.94 2.06-2.06.94zm10 10l.94 2.06.94-2.06 2.06-.94-2.06-.94-.94-2.06-.94 2.06-2.06.94z\"/><path d=\"M17.41 7.96l-1.37-1.37c-.4-.4-.92-.59-1.43-.59-.52 0-1.04.2-1.43.59L10.3 9.45l-7.72 7.72c-.78.78-.78 2.05 0 2.83L4 21.41c.39.39.9.59 1.41.59.51 0 1.02-.2 1.41-.59l7.78-7.78 2.81-2.81c.8-.78.8-2.07 0-2.86zM5.41 20L4 18.59l7.72-7.72 1.47 1.35L5.41 20z\"/>\n",
       "  </svg>\n",
       "      </button>\n",
       "      \n",
       "  <style>\n",
       "    .colab-df-container {\n",
       "      display:flex;\n",
       "      flex-wrap:wrap;\n",
       "      gap: 12px;\n",
       "    }\n",
       "\n",
       "    .colab-df-convert {\n",
       "      background-color: #E8F0FE;\n",
       "      border: none;\n",
       "      border-radius: 50%;\n",
       "      cursor: pointer;\n",
       "      display: none;\n",
       "      fill: #1967D2;\n",
       "      height: 32px;\n",
       "      padding: 0 0 0 0;\n",
       "      width: 32px;\n",
       "    }\n",
       "\n",
       "    .colab-df-convert:hover {\n",
       "      background-color: #E2EBFA;\n",
       "      box-shadow: 0px 1px 2px rgba(60, 64, 67, 0.3), 0px 1px 3px 1px rgba(60, 64, 67, 0.15);\n",
       "      fill: #174EA6;\n",
       "    }\n",
       "\n",
       "    [theme=dark] .colab-df-convert {\n",
       "      background-color: #3B4455;\n",
       "      fill: #D2E3FC;\n",
       "    }\n",
       "\n",
       "    [theme=dark] .colab-df-convert:hover {\n",
       "      background-color: #434B5C;\n",
       "      box-shadow: 0px 1px 3px 1px rgba(0, 0, 0, 0.15);\n",
       "      filter: drop-shadow(0px 1px 2px rgba(0, 0, 0, 0.3));\n",
       "      fill: #FFFFFF;\n",
       "    }\n",
       "  </style>\n",
       "\n",
       "      <script>\n",
       "        const buttonEl =\n",
       "          document.querySelector('#df-fa25182b-915a-4ed3-a1a9-6954a9a0a443 button.colab-df-convert');\n",
       "        buttonEl.style.display =\n",
       "          google.colab.kernel.accessAllowed ? 'block' : 'none';\n",
       "\n",
       "        async function convertToInteractive(key) {\n",
       "          const element = document.querySelector('#df-fa25182b-915a-4ed3-a1a9-6954a9a0a443');\n",
       "          const dataTable =\n",
       "            await google.colab.kernel.invokeFunction('convertToInteractive',\n",
       "                                                     [key], {});\n",
       "          if (!dataTable) return;\n",
       "\n",
       "          const docLinkHtml = 'Like what you see? Visit the ' +\n",
       "            '<a target=\"_blank\" href=https://colab.research.google.com/notebooks/data_table.ipynb>data table notebook</a>'\n",
       "            + ' to learn more about interactive tables.';\n",
       "          element.innerHTML = '';\n",
       "          dataTable['output_type'] = 'display_data';\n",
       "          await google.colab.output.renderOutput(dataTable, element);\n",
       "          const docLink = document.createElement('div');\n",
       "          docLink.innerHTML = docLinkHtml;\n",
       "          element.appendChild(docLink);\n",
       "        }\n",
       "      </script>\n",
       "    </div>\n",
       "  </div>\n",
       "  "
      ]
     },
     "metadata": {},
     "execution_count": 160
    }
   ]
  },
  {
   "cell_type": "code",
   "metadata": {
    "id": "1tL5GVa00bWr"
   },
   "source": [
    "from sklearn.model_selection import train_test_split\n",
    "\n",
    "X_train, X_test, y_train, y_test = train_test_split(X,y,test_size=0.3)\n",
    "\n",
    "# X_trainval, X_test, y_trainval, y_test = train_test_split(X,y,test_size=0.1)\n",
    "# X_train, X_val, y_train, y_val = train_test_split(X_trainval,y_trainval,\n",
    "#                                                   test_size=0.2)"
   ],
   "execution_count": null,
   "outputs": []
  },
  {
   "cell_type": "code",
   "metadata": {
    "id": "qXsvnnOFSfq0",
    "colab": {
     "base_uri": "https://localhost:8080/"
    },
    "outputId": "30d31015-b5fb-47ff-c4a4-fa22e0d58c5e"
   },
   "source": [
    "# Utilizando Random Forest\n",
    "from sklearn.metrics import classification_report, confusion_matrix\n",
    "\n",
    "params_rf = {\n",
    "              'criterion':['gini'],\n",
    "              # 'criterion':['gini'],\n",
    "             'n_estimators':[1,2,20,100,500],\n",
    "            #  'max_features':['sqrt','log2'],\n",
    "            #  'max_depth':[25,50, None]\n",
    "             }\n",
    "\n",
    "rf = RandomForestClassifier(oob_score=True, random_state=0)#revisar\n",
    "grid_rf = GridSearchCV(rf,param_grid=params_rf,n_jobs=4, verbose=10, cv=2, scoring=[\"accuracy\", \"roc_auc\", \"f1\"], refit='accuracy').fit(X_train,y_train)\n",
    "\n",
    "y_predicted_rf = grid_rf.predict(X_test)\n",
    "cm_rf =confusion_matrix(y_test,y_predicted_rf)\n",
    "# print_binary_confusion_matrix (cm_rf) #revisar\n",
    "\n"
   ],
   "execution_count": null,
   "outputs": [
    {
     "output_type": "stream",
     "name": "stdout",
     "text": [
      "Fitting 2 folds for each of 5 candidates, totalling 10 fits\n"
     ]
    }
   ]
  },
  {
   "cell_type": "code",
   "metadata": {
    "id": "D7p2j70ieboc",
    "colab": {
     "base_uri": "https://localhost:8080/"
    },
    "outputId": "e602c471-92e8-4d36-ee6c-70026b78bd2a"
   },
   "source": [
    "grid_rf.best_estimator_.oob_score_"
   ],
   "execution_count": null,
   "outputs": [
    {
     "output_type": "execute_result",
     "data": {
      "text/plain": [
       "0.9820454545454546"
      ]
     },
     "metadata": {},
     "execution_count": 165
    }
   ]
  },
  {
   "cell_type": "code",
   "metadata": {
    "id": "2oTCMoGl8iuG",
    "colab": {
     "base_uri": "https://localhost:8080/"
    },
    "outputId": "55ca7c7d-c6b0-411b-c38d-c5b73731a628"
   },
   "source": [
    "grid_rf.cv_results_"
   ],
   "execution_count": null,
   "outputs": [
    {
     "output_type": "execute_result",
     "data": {
      "text/plain": [
       "{'mean_fit_time': array([ 0.53002238,  1.03185344,  9.43162215, 37.37256563, 94.110618  ]),\n",
       " 'std_fit_time': array([0.02170539, 0.00064182, 0.31968153, 0.07241166, 0.52502167]),\n",
       " 'mean_score_time': array([0.26231778, 0.25540006, 1.09362614, 3.08987713, 7.57627153]),\n",
       " 'std_score_time': array([0.01476634, 0.05053008, 0.00767434, 0.02209234, 0.22660756]),\n",
       " 'param_criterion': masked_array(data=['gini', 'gini', 'gini', 'gini', 'gini'],\n",
       "              mask=[False, False, False, False, False],\n",
       "        fill_value='?',\n",
       "             dtype=object),\n",
       " 'param_n_estimators': masked_array(data=[1, 2, 20, 100, 500],\n",
       "              mask=[False, False, False, False, False],\n",
       "        fill_value='?',\n",
       "             dtype=object),\n",
       " 'params': [{'criterion': 'gini', 'n_estimators': 1},\n",
       "  {'criterion': 'gini', 'n_estimators': 2},\n",
       "  {'criterion': 'gini', 'n_estimators': 20},\n",
       "  {'criterion': 'gini', 'n_estimators': 100},\n",
       "  {'criterion': 'gini', 'n_estimators': 500}],\n",
       " 'split0_test_accuracy': array([0.91996753, 0.91256494, 0.96035714, 0.96415584, 0.96412338]),\n",
       " 'split1_test_accuracy': array([0.92055195, 0.91191558, 0.95961039, 0.96178571, 0.96211039]),\n",
       " 'mean_test_accuracy': array([0.92025974, 0.91224026, 0.95998377, 0.96297078, 0.96311688]),\n",
       " 'std_test_accuracy': array([0.00029221, 0.00032468, 0.00037338, 0.00118506, 0.00100649]),\n",
       " 'rank_test_accuracy': array([4, 5, 3, 2, 1], dtype=int32),\n",
       " 'split0_test_roc_auc': array([0.92380836, 0.96498549, 0.99043721, 0.99204564, 0.99220375]),\n",
       " 'split1_test_roc_auc': array([0.92462921, 0.96188857, 0.98850902, 0.99024155, 0.99055997]),\n",
       " 'mean_test_roc_auc': array([0.92421879, 0.96343703, 0.98947312, 0.99114359, 0.99138186]),\n",
       " 'std_test_roc_auc': array([0.00041042, 0.00154846, 0.00096409, 0.00090204, 0.00082189]),\n",
       " 'rank_test_roc_auc': array([5, 4, 3, 2, 1], dtype=int32),\n",
       " 'split0_test_f1': array([0.92573735, 0.91557729, 0.96357725, 0.96720143, 0.96718244]),\n",
       " 'split1_test_f1': array([0.92642593, 0.9151896 , 0.96293648, 0.96502125, 0.96534315]),\n",
       " 'mean_test_f1': array([0.92608164, 0.91538344, 0.96325686, 0.96611134, 0.9662628 ]),\n",
       " 'std_test_f1': array([0.00034429, 0.00019385, 0.00032038, 0.00109009, 0.00091964]),\n",
       " 'rank_test_f1': array([4, 5, 3, 2, 1], dtype=int32)}"
      ]
     },
     "metadata": {},
     "execution_count": 166
    }
   ]
  },
  {
   "cell_type": "code",
   "metadata": {
    "id": "C8Lr453L6VOf",
    "colab": {
     "base_uri": "https://localhost:8080/",
     "height": 426
    },
    "outputId": "3b998cea-6f34-4a83-932b-2ef297fd623e"
   },
   "source": [
    "feat_importance = pd.DataFrame({'cols':X.columns, 'imp':grid_rf.best_estimator_.feature_importances_}).sort_values('imp', ascending=False)\n",
    "feat_importance"
   ],
   "execution_count": null,
   "outputs": [
    {
     "output_type": "execute_result",
     "data": {
      "text/plain": [
       "                 cols       imp\n",
       "1        distance_dep  0.139494\n",
       "11     distance_ponds  0.128160\n",
       "5      distance_parks  0.125609\n",
       "6   distance_villages  0.113904\n",
       "3        distance_nac  0.113632\n",
       "7            altitude  0.098774\n",
       "0        distance_any  0.073943\n",
       "2        distance_vec  0.065684\n",
       "4     distance_buffer  0.058317\n",
       "10    distance_rivers  0.041522\n",
       "8               slope  0.028876\n",
       "9            landform  0.012084"
      ],
      "text/html": [
       "\n",
       "  <div id=\"df-d75b5e0b-6be5-4302-a6c0-fd6f9170a7e5\">\n",
       "    <div class=\"colab-df-container\">\n",
       "      <div>\n",
       "<style scoped>\n",
       "    .dataframe tbody tr th:only-of-type {\n",
       "        vertical-align: middle;\n",
       "    }\n",
       "\n",
       "    .dataframe tbody tr th {\n",
       "        vertical-align: top;\n",
       "    }\n",
       "\n",
       "    .dataframe thead th {\n",
       "        text-align: right;\n",
       "    }\n",
       "</style>\n",
       "<table border=\"1\" class=\"dataframe\">\n",
       "  <thead>\n",
       "    <tr style=\"text-align: right;\">\n",
       "      <th></th>\n",
       "      <th>cols</th>\n",
       "      <th>imp</th>\n",
       "    </tr>\n",
       "  </thead>\n",
       "  <tbody>\n",
       "    <tr>\n",
       "      <th>1</th>\n",
       "      <td>distance_dep</td>\n",
       "      <td>0.139494</td>\n",
       "    </tr>\n",
       "    <tr>\n",
       "      <th>11</th>\n",
       "      <td>distance_ponds</td>\n",
       "      <td>0.128160</td>\n",
       "    </tr>\n",
       "    <tr>\n",
       "      <th>5</th>\n",
       "      <td>distance_parks</td>\n",
       "      <td>0.125609</td>\n",
       "    </tr>\n",
       "    <tr>\n",
       "      <th>6</th>\n",
       "      <td>distance_villages</td>\n",
       "      <td>0.113904</td>\n",
       "    </tr>\n",
       "    <tr>\n",
       "      <th>3</th>\n",
       "      <td>distance_nac</td>\n",
       "      <td>0.113632</td>\n",
       "    </tr>\n",
       "    <tr>\n",
       "      <th>7</th>\n",
       "      <td>altitude</td>\n",
       "      <td>0.098774</td>\n",
       "    </tr>\n",
       "    <tr>\n",
       "      <th>0</th>\n",
       "      <td>distance_any</td>\n",
       "      <td>0.073943</td>\n",
       "    </tr>\n",
       "    <tr>\n",
       "      <th>2</th>\n",
       "      <td>distance_vec</td>\n",
       "      <td>0.065684</td>\n",
       "    </tr>\n",
       "    <tr>\n",
       "      <th>4</th>\n",
       "      <td>distance_buffer</td>\n",
       "      <td>0.058317</td>\n",
       "    </tr>\n",
       "    <tr>\n",
       "      <th>10</th>\n",
       "      <td>distance_rivers</td>\n",
       "      <td>0.041522</td>\n",
       "    </tr>\n",
       "    <tr>\n",
       "      <th>8</th>\n",
       "      <td>slope</td>\n",
       "      <td>0.028876</td>\n",
       "    </tr>\n",
       "    <tr>\n",
       "      <th>9</th>\n",
       "      <td>landform</td>\n",
       "      <td>0.012084</td>\n",
       "    </tr>\n",
       "  </tbody>\n",
       "</table>\n",
       "</div>\n",
       "      <button class=\"colab-df-convert\" onclick=\"convertToInteractive('df-d75b5e0b-6be5-4302-a6c0-fd6f9170a7e5')\"\n",
       "              title=\"Convert this dataframe to an interactive table.\"\n",
       "              style=\"display:none;\">\n",
       "        \n",
       "  <svg xmlns=\"http://www.w3.org/2000/svg\" height=\"24px\"viewBox=\"0 0 24 24\"\n",
       "       width=\"24px\">\n",
       "    <path d=\"M0 0h24v24H0V0z\" fill=\"none\"/>\n",
       "    <path d=\"M18.56 5.44l.94 2.06.94-2.06 2.06-.94-2.06-.94-.94-2.06-.94 2.06-2.06.94zm-11 1L8.5 8.5l.94-2.06 2.06-.94-2.06-.94L8.5 2.5l-.94 2.06-2.06.94zm10 10l.94 2.06.94-2.06 2.06-.94-2.06-.94-.94-2.06-.94 2.06-2.06.94z\"/><path d=\"M17.41 7.96l-1.37-1.37c-.4-.4-.92-.59-1.43-.59-.52 0-1.04.2-1.43.59L10.3 9.45l-7.72 7.72c-.78.78-.78 2.05 0 2.83L4 21.41c.39.39.9.59 1.41.59.51 0 1.02-.2 1.41-.59l7.78-7.78 2.81-2.81c.8-.78.8-2.07 0-2.86zM5.41 20L4 18.59l7.72-7.72 1.47 1.35L5.41 20z\"/>\n",
       "  </svg>\n",
       "      </button>\n",
       "      \n",
       "  <style>\n",
       "    .colab-df-container {\n",
       "      display:flex;\n",
       "      flex-wrap:wrap;\n",
       "      gap: 12px;\n",
       "    }\n",
       "\n",
       "    .colab-df-convert {\n",
       "      background-color: #E8F0FE;\n",
       "      border: none;\n",
       "      border-radius: 50%;\n",
       "      cursor: pointer;\n",
       "      display: none;\n",
       "      fill: #1967D2;\n",
       "      height: 32px;\n",
       "      padding: 0 0 0 0;\n",
       "      width: 32px;\n",
       "    }\n",
       "\n",
       "    .colab-df-convert:hover {\n",
       "      background-color: #E2EBFA;\n",
       "      box-shadow: 0px 1px 2px rgba(60, 64, 67, 0.3), 0px 1px 3px 1px rgba(60, 64, 67, 0.15);\n",
       "      fill: #174EA6;\n",
       "    }\n",
       "\n",
       "    [theme=dark] .colab-df-convert {\n",
       "      background-color: #3B4455;\n",
       "      fill: #D2E3FC;\n",
       "    }\n",
       "\n",
       "    [theme=dark] .colab-df-convert:hover {\n",
       "      background-color: #434B5C;\n",
       "      box-shadow: 0px 1px 3px 1px rgba(0, 0, 0, 0.15);\n",
       "      filter: drop-shadow(0px 1px 2px rgba(0, 0, 0, 0.3));\n",
       "      fill: #FFFFFF;\n",
       "    }\n",
       "  </style>\n",
       "\n",
       "      <script>\n",
       "        const buttonEl =\n",
       "          document.querySelector('#df-d75b5e0b-6be5-4302-a6c0-fd6f9170a7e5 button.colab-df-convert');\n",
       "        buttonEl.style.display =\n",
       "          google.colab.kernel.accessAllowed ? 'block' : 'none';\n",
       "\n",
       "        async function convertToInteractive(key) {\n",
       "          const element = document.querySelector('#df-d75b5e0b-6be5-4302-a6c0-fd6f9170a7e5');\n",
       "          const dataTable =\n",
       "            await google.colab.kernel.invokeFunction('convertToInteractive',\n",
       "                                                     [key], {});\n",
       "          if (!dataTable) return;\n",
       "\n",
       "          const docLinkHtml = 'Like what you see? Visit the ' +\n",
       "            '<a target=\"_blank\" href=https://colab.research.google.com/notebooks/data_table.ipynb>data table notebook</a>'\n",
       "            + ' to learn more about interactive tables.';\n",
       "          element.innerHTML = '';\n",
       "          dataTable['output_type'] = 'display_data';\n",
       "          await google.colab.output.renderOutput(dataTable, element);\n",
       "          const docLink = document.createElement('div');\n",
       "          docLink.innerHTML = docLinkHtml;\n",
       "          element.appendChild(docLink);\n",
       "        }\n",
       "      </script>\n",
       "    </div>\n",
       "  </div>\n",
       "  "
      ]
     },
     "metadata": {},
     "execution_count": 167
    }
   ]
  },
  {
   "cell_type": "code",
   "metadata": {
    "id": "AOYuUeDl9uzu",
    "colab": {
     "base_uri": "https://localhost:8080/",
     "height": 431
    },
    "outputId": "4e539ff6-c9d3-4b4d-c372-fa5221bb81cf"
   },
   "source": [
    "feat_importance.plot('cols', 'imp', 'barh', figsize=(12,7), legend=False);"
   ],
   "execution_count": null,
   "outputs": [
    {
     "output_type": "display_data",
     "data": {
      "text/plain": [
       "<Figure size 864x504 with 1 Axes>"
      ],
      "image/png": "[encoded data removed]"
     },
     "metadata": {
      "needs_background": "light"
     }
    }
   ]
  },
  {
   "cell_type": "markdown",
   "metadata": {
    "id": "MjkTp4ptlcv5"
   },
   "source": [
    "# Errors in classifier 1 \n",
    "\n"
   ]
  },
  {
   "cell_type": "code",
   "metadata": {
    "id": "4RotK9te15C9"
   },
   "source": [
    "from itertools import groupby\n",
    "import pandas as pd\n",
    "import matplotlib.pyplot as plt\n",
    "import seaborn as sns\n",
    "db = pd.read_csv('data/sample_errors_classified.csv')\n",
    "th = 0.5\n",
    "db['classification_bin'] = db['classification'] >th\n",
    "db['classification_bin'][db['classification'] > th] = 1\n",
    "db['classification_bin'][db['classification'] <= th] = 0\n",
    "db[\"classified_correctly\"]=0\n",
    "db[\"classified_correctly\"][db[\"classification_bin\"]==db[\"mined\"]] = 1\n",
    "db = db.groupby([\"cluster\", \"classified_correctly\"], as_index=False).count()\n",
    "db.drop(db[db[\"cluster\"]==0].index, inplace=True)\n",
    "db= db[[\"cluster\", \"classified_correctly\",\"mined\"]]\n",
    "db\n",
    "db.to_csv(\"data/sample_errors_classified_counted.csv\")"
   ],
   "execution_count": null,
   "outputs": []
  },
  {
   "cell_type": "code",
   "source": [
    "%%R\n",
    "palette = c(\"#EEEDEE\",'black','#a6cee3','#1f78b4','#b2df8a','#33a02c',\n",
    "                            '#fb9a99','#e31a1c','#fdbf6f','#ff7f00','#cab2d6','#6a3d9a',\n",
    "                            '#E2D71A','#b15928')\n",
    "cols = palette"
   ],
   "metadata": {
    "id": "3Uhd6wupE-CJ"
   },
   "execution_count": null,
   "outputs": []
  },
  {
   "cell_type": "code",
   "metadata": {
    "id": "WrBoooxu2uqW",
    "colab": {
     "base_uri": "https://localhost:8080/"
    },
    "outputId": "939ec02e-4c51-47c4-c415-a037b69c832b",
    "pycharm": {
     "name": "#%%\n"
    }
   },
   "source": [
    "%%R\n",
    "data = read.csv('data/sample_errors_classified_counted.csv')\n",
    "data$classified_correctly[data$classified_correctly == 1] = \"Correct\"\n",
    "data$classified_correctly[data$classified_correctly == 0] = \"Incorrect\"\n",
    "\n",
    "cols = c(\"\")\n",
    "\n",
    "graph = \n",
    "  ggplot(data, aes(x=data$cluster, y = data$mined, \n",
    "                  #  fill = factor(data$cluster))) +\n",
    "                   fill = factor(data$classified_correctly))) +\n",
    "  geom_bar(position=\"fill\", stat=\"identity\", \n",
    "          #  fill = data$cluster,\n",
    "           ) +\n",
    "  # geom_bar(position=\"stack\", stat=\"identity\", \n",
    "  #          fill = data$cluster, alpha = 0.1,\n",
    "  #          ) +\n",
    "  ylab(\"Predicted mined pixels\") +   \n",
    "  xlab(\"Cluster\") + \n",
    "  scale_fill_manual(values=c(\"#a6cee3\",\"black\")) +  \n",
    "  # scale_color_manual(values=cols) +\n",
    "  theme_linedraw() + \n",
    "  labs(fill = \"Prediction\") +\n",
    "  scale_x_continuous(breaks = seq(1, 13, len = 13), \n",
    "                        #  limits=c(0,3)\n",
    "                         ) +\n",
    "  # scale_y_continuous(breaks = c(0,500))+\n",
    "  # # coord_cartesian(xlim =c(0, 21))+\n",
    "  theme(text=element_text(size=16), \n",
    "        strip.background = element_rect(fill=\"black\"), \n",
    "        strip.text = element_text(size=16), \n",
    "        # axis.title.y = element_blank(),\n",
    "        axis.title.x = element_text(size= 16, margin = margin(0.5, 0, 0.5, 0, \"cm\")), \n",
    "        # axis.text.y = element_blank(),\n",
    "        # axis.ticks.y = element_blank(),\n",
    "        # panel.grid.major.y = element_blank(),\n",
    "        # panel.grid.minor.y = element_blank(),\n",
    "        panel.grid.minor.x = element_blank(),\n",
    "        panel.grid.major.x = element_blank(),\n",
    "        axis.text.x = element_text(size= 14, angle=30, hjust=1), \n",
    "        # axis.text.y = element_text(size= 12, angle=30, hjust=1), \n",
    "        # legend.position = \"none\"\n",
    "        )\n",
    "#   theme(text=element_text(size=14), strip.background = element_rect(fill=\"black\"), axis.text.x = element_text(angle=30, hjust=1))\n",
    "graph\n",
    "ggsave(filename = 'prediction_error.png',plot=graph, scale = 1,path ='/outputs' ,device= 'png',dpi = 600)"
   ],
   "execution_count": null,
   "outputs": [
    {
     "output_type": "stream",
     "name": "stderr",
     "text": [
      "WARNING:rpy2.rinterface_lib.callbacks:R[write to console]: Saving 6.67 x 6.67 in image\n",
      "\n"
     ]
    }
   ]
  }
 ]
}